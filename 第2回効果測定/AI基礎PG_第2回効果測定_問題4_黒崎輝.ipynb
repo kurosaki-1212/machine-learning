{
  "nbformat": 4,
  "nbformat_minor": 0,
  "metadata": {
    "colab": {
      "name": "AI基礎PG_第2回効果測定_問題4_黒崎輝.ipynb",
      "provenance": [],
      "collapsed_sections": []
    },
    "kernelspec": {
      "name": "python3",
      "display_name": "Python 3"
    },
    "language_info": {
      "name": "python"
    }
  },
  "cells": [
    {
      "cell_type": "code",
      "execution_count": 401,
      "metadata": {
        "id": "EVKbY4q7uJ2_",
        "colab": {
          "base_uri": "https://localhost:8080/"
        },
        "outputId": "34a3f48a-12c1-471c-b89e-a7c3078da42c"
      },
      "outputs": [
        {
          "output_type": "stream",
          "name": "stdout",
          "text": [
            "===titanic_kouka2_1.csv===\n",
            "   乗客ID  生存  乗客クラス     名前      性別\n",
            "0     1   0      3  name1    male\n",
            "1     2   1      1  name2  female\n",
            "2     3   1      3  name3  female\n",
            "3     4   1      1  name4  female\n",
            "4     5   0      3  name5    male\n",
            "===titanic_kouka2_2.csv===\n",
            "   乗客ID    年齢  兄弟と配偶者  親と子供     チケット番号       運賃  客室番号 出港地\n",
            "0     1  22.0       1     0  A/5 21171   7.2500   NaN   S\n",
            "1     2  38.0       1     0   PC 17599  71.2833   C85   C\n",
            "2     4  35.0       1     0     113803  53.1000  C123   S\n",
            "3     5  35.0       0     0     373450   8.0500   NaN   S\n",
            "4     6   NaN       0     0     330877   8.4583   NaN   Q\n"
          ]
        }
      ],
      "source": [
        "# pandasのインポート\n",
        "import pandas as pd\n",
        "\n",
        "# CSVの読み込み\n",
        "df1 = pd.read_csv('titanic_kouka2_1.csv', sep = ',')\n",
        "df2 = pd.read_csv('titanic_kouka2_2.csv', sep = ',')\n",
        "\n",
        "# 正しく読み込めているかを確認するため、それぞれのデータフレームの内容を表示する\n",
        "print('===titanic_kouka2_1.csv===')\n",
        "print(df1.head())\n",
        "\n",
        "print('===titanic_kouka2_2.csv===')\n",
        "print(df2.head())"
      ]
    },
    {
      "cell_type": "code",
      "source": [
        "# データフレームを'乗客ID'列をキーに列方向に連結する\n",
        "df = df1.merge(right=df2, how='left', on='乗客ID')\n",
        "print('行列数',df.shape)"
      ],
      "metadata": {
        "colab": {
          "base_uri": "https://localhost:8080/"
        },
        "id": "xoCjv2i8Huez",
        "outputId": "acecd10e-1571-4a54-ff26-f74ca09b8d61"
      },
      "execution_count": 402,
      "outputs": [
        {
          "output_type": "stream",
          "name": "stdout",
          "text": [
            "行列数 (891, 12)\n"
          ]
        }
      ]
    },
    {
      "cell_type": "code",
      "source": [
        "# 正解データの偏りの有無を確認するため、データの種類ごとの出現回数を表示する\n",
        "df['生存'].value_counts()"
      ],
      "metadata": {
        "colab": {
          "base_uri": "https://localhost:8080/"
        },
        "id": "6_v_YEImIL6i",
        "outputId": "72436eb8-524c-4c08-80d5-4ceba7e9f745"
      },
      "execution_count": 403,
      "outputs": [
        {
          "output_type": "execute_result",
          "data": {
            "text/plain": [
              "0    549\n",
              "1    342\n",
              "Name: 生存, dtype: int64"
            ]
          },
          "metadata": {},
          "execution_count": 403
        }
      ]
    },
    {
      "cell_type": "code",
      "source": [
        "# 各列に欠損値がどれだけ含まれているかを確認する\n",
        "# 欠損値がある場合は穴埋めを考えるが、欠損値が多く分析で使えない列かもしれない\n",
        "df.isnull().sum()"
      ],
      "metadata": {
        "colab": {
          "base_uri": "https://localhost:8080/"
        },
        "id": "5t26eBCEIrL_",
        "outputId": "ed945b30-c09d-4ff0-9879-1d64f500f5d3"
      },
      "execution_count": 404,
      "outputs": [
        {
          "output_type": "execute_result",
          "data": {
            "text/plain": [
              "乗客ID        0\n",
              "生存          0\n",
              "乗客クラス       0\n",
              "名前          0\n",
              "性別          0\n",
              "年齢        178\n",
              "兄弟と配偶者      1\n",
              "親と子供        1\n",
              "チケット番号      1\n",
              "運賃          1\n",
              "客室番号      687\n",
              "出港地         3\n",
              "dtype: int64"
            ]
          },
          "metadata": {},
          "execution_count": 404
        }
      ]
    },
    {
      "cell_type": "code",
      "source": [
        "# 客室番号の列には欠損値が891件中687件もあるため今回は削除する\n",
        "# 欠損値を削除する\n",
        "df= df.drop('客室番号', axis = 1)\n",
        "\n",
        "# 削除されているか確認する\n",
        "df.isnull().sum()"
      ],
      "metadata": {
        "colab": {
          "base_uri": "https://localhost:8080/"
        },
        "id": "J1KzMbj3JFl7",
        "outputId": "55622801-6a26-417b-aedd-0c7d6cff845c"
      },
      "execution_count": 405,
      "outputs": [
        {
          "output_type": "execute_result",
          "data": {
            "text/plain": [
              "乗客ID        0\n",
              "生存          0\n",
              "乗客クラス       0\n",
              "名前          0\n",
              "性別          0\n",
              "年齢        178\n",
              "兄弟と配偶者      1\n",
              "親と子供        1\n",
              "チケット番号      1\n",
              "運賃          1\n",
              "出港地         3\n",
              "dtype: int64"
            ]
          },
          "metadata": {},
          "execution_count": 405
        }
      ]
    },
    {
      "cell_type": "code",
      "source": [
        "# 中央値で穴埋めすることとし、モデルの性能が良くなければ別の対処も考えることにする\n",
        "df_fillna = df.fillna(df.median())\n",
        "\n",
        "# また中央値で中央値で補完できない行は削除する\n",
        "df_fillna.dropna(inplace=True)\n",
        "\n",
        "# 補完されているか確認する\n",
        "df_fillna.isnull().sum()"
      ],
      "metadata": {
        "colab": {
          "base_uri": "https://localhost:8080/"
        },
        "id": "sNOsareWItOm",
        "outputId": "e9d388b2-4cfc-4f7c-a6b9-507c6a508cd4"
      },
      "execution_count": 406,
      "outputs": [
        {
          "output_type": "stream",
          "name": "stderr",
          "text": [
            "/usr/local/lib/python3.7/dist-packages/ipykernel_launcher.py:2: FutureWarning: Dropping of nuisance columns in DataFrame reductions (with 'numeric_only=None') is deprecated; in a future version this will raise TypeError.  Select only valid columns before calling the reduction.\n",
            "  \n"
          ]
        },
        {
          "output_type": "execute_result",
          "data": {
            "text/plain": [
              "乗客ID      0\n",
              "生存        0\n",
              "乗客クラス     0\n",
              "名前        0\n",
              "性別        0\n",
              "年齢        0\n",
              "兄弟と配偶者    0\n",
              "親と子供      0\n",
              "チケット番号    0\n",
              "運賃        0\n",
              "出港地       0\n",
              "dtype: int64"
            ]
          },
          "metadata": {},
          "execution_count": 406
        }
      ]
    },
    {
      "cell_type": "code",
      "source": [
        "# 文字列データをダミー変数化する\n",
        "# ダミー変数化の結果が変わらないよう、データ分割前にダミー変数化を実施する\n",
        "# データフレームを丸ごと渡すことで、文字の列のみダミー変数化し、それ以外は元のままとしたデータフレームを取得できる\n",
        "df_dummied = pd.get_dummies(df_fillna)\n",
        "\n",
        "# 正しくダミー変数化されていることを確認するため、内容を表示する\n",
        "print(df_dummied)"
      ],
      "metadata": {
        "colab": {
          "base_uri": "https://localhost:8080/"
        },
        "id": "2cvfGdIkM4gk",
        "outputId": "931f02db-a5c2-4d24-c45a-5b2498c8a71e"
      },
      "execution_count": 407,
      "outputs": [
        {
          "output_type": "stream",
          "name": "stdout",
          "text": [
            "     乗客ID  生存  乗客クラス    年齢  ...  チケット番号_WE/P 5735  出港地_C  出港地_Q  出港地_S\n",
            "0       1   0      3  22.0  ...                 0      0      0      1\n",
            "1       2   1      1  38.0  ...                 0      1      0      0\n",
            "3       4   1      1  35.0  ...                 0      0      0      1\n",
            "4       5   0      3  35.0  ...                 0      0      0      1\n",
            "5       6   0      3  28.0  ...                 0      0      1      0\n",
            "..    ...  ..    ...   ...  ...               ...    ...    ...    ...\n",
            "886   887   0      2  27.0  ...                 0      0      0      1\n",
            "887   888   1      1  19.0  ...                 0      0      0      1\n",
            "888   889   0      3  28.0  ...                 0      0      0      1\n",
            "889   890   1      1  26.0  ...                 0      1      0      0\n",
            "890   891   0      3  32.0  ...                 0      0      1      0\n",
            "\n",
            "[888 rows x 1579 columns]\n"
          ]
        }
      ]
    },
    {
      "cell_type": "code",
      "source": [
        "# データを、特徴量、正解データに分ける\n",
        "# 特徴量を'乗客クラス', '性別_female', '性別_male', '兄弟と配偶者', '親と子供の列'とする\n",
        "X = df_dummied[['乗客クラス', '性別_female', '性別_male','兄弟と配偶者', '親と子供']]\n",
        "\n",
        "# 正解データは'生存'\n",
        "y = df_dummied[['生存']]"
      ],
      "metadata": {
        "id": "FjixkMcSNeuR"
      },
      "execution_count": 408,
      "outputs": []
    },
    {
      "cell_type": "code",
      "source": [
        "# train_test_splitをインポートする\n",
        "from sklearn.model_selection import train_test_split\n",
        "\n",
        "# データを訓練データ＆検証データ、テストデータに分割する\n",
        "X_train_val, X_test, y_train_val, y_test = train_test_split(X, y, test_size = 0.2, random_state=0)"
      ],
      "metadata": {
        "id": "qS7LkZYnNJK4"
      },
      "execution_count": 409,
      "outputs": []
    },
    {
      "cell_type": "code",
      "source": [
        "# AdaBoostClassifierをインポートする\n",
        "from sklearn.ensemble import AdaBoostClassifier\n",
        "# DecisionTreeClassifierをインポートする\n",
        "from sklearn.tree import DecisionTreeClassifier\n",
        "\n",
        "# ベースとして使用するモデルを深さ5の決定木(分類)　とする\n",
        "base_model = DecisionTreeClassifier(random_state = 0, max_depth = 5, class_weight='balanced')\n",
        "\n",
        "# アダブーストを使用してモデルを作成する\n",
        "model = AdaBoostClassifier(n_estimators = 500, random_state = 0, base_estimator = base_model)\n",
        "model.fit(X_train_val, y_train_val)"
      ],
      "metadata": {
        "colab": {
          "base_uri": "https://localhost:8080/"
        },
        "id": "-0BPO3f_QKWX",
        "outputId": "9020986e-3264-426c-8a62-9e4644d87f2c"
      },
      "execution_count": 410,
      "outputs": [
        {
          "output_type": "stream",
          "name": "stderr",
          "text": [
            "/usr/local/lib/python3.7/dist-packages/sklearn/utils/validation.py:993: DataConversionWarning: A column-vector y was passed when a 1d array was expected. Please change the shape of y to (n_samples, ), for example using ravel().\n",
            "  y = column_or_1d(y, warn=True)\n"
          ]
        },
        {
          "output_type": "execute_result",
          "data": {
            "text/plain": [
              "AdaBoostClassifier(base_estimator=DecisionTreeClassifier(class_weight='balanced',\n",
              "                                                         max_depth=5,\n",
              "                                                         random_state=0),\n",
              "                   n_estimators=500, random_state=0)"
            ]
          },
          "metadata": {},
          "execution_count": 410
        }
      ]
    },
    {
      "cell_type": "code",
      "source": [
        "# テストデータでの正解率を確認する\n",
        "print(model.score(X_test, y_test))"
      ],
      "metadata": {
        "colab": {
          "base_uri": "https://localhost:8080/"
        },
        "id": "KNyIKafHQSYd",
        "outputId": "340c7c3b-0ef3-4fe1-8fb0-b4a7f6a6dd5c"
      },
      "execution_count": 411,
      "outputs": [
        {
          "output_type": "stream",
          "name": "stdout",
          "text": [
            "0.8202247191011236\n"
          ]
        }
      ]
    },
    {
      "cell_type": "code",
      "source": [
        "# 新しくデータフレームを作成する\n",
        "predict_data = pd.DataFrame([[3, 'nameA', 'female', 13, 1, 0, '2651', 11.2417, 'C99', 'C'],\n",
        "                             [2, 'nameb', 'female', 13, 1, 0, '2651', 11.2417, 'C99', 'C'],\n",
        "                             [2, 'namec', 'male', 13, 1, 0, '2651', 11.2417, 'C99', 'C']], \n",
        "                             columns = ['乗客クラス', '名前', '性別', '年齢', '兄弟と配偶者', '親と子供', 'チケット番号', '運賃', '客室番号', '出港地'])\n",
        "# 作成したデータフレームを表示する\n",
        "print(predict_data)"
      ],
      "metadata": {
        "colab": {
          "base_uri": "https://localhost:8080/"
        },
        "id": "vX99Wq-5QZ2Y",
        "outputId": "6a5f2b53-8785-456d-cc99-2c801ecc1183"
      },
      "execution_count": 412,
      "outputs": [
        {
          "output_type": "stream",
          "name": "stdout",
          "text": [
            "   乗客クラス     名前      性別  年齢  兄弟と配偶者  親と子供 チケット番号       運賃 客室番号 出港地\n",
            "0      3  nameA  female  13       1     0   2651  11.2417  C99   C\n",
            "1      2  nameb  female  13       1     0   2651  11.2417  C99   C\n",
            "2      2  namec    male  13       1     0   2651  11.2417  C99   C\n"
          ]
        }
      ]
    },
    {
      "cell_type": "code",
      "source": [
        "# 性別列をダミー変数化する\n",
        "predict_data = pd.get_dummies(predict_data)\n",
        "\n",
        "# ダミー変数化した結果を表示する\n",
        "print(predict_data)"
      ],
      "metadata": {
        "colab": {
          "base_uri": "https://localhost:8080/"
        },
        "id": "_WVwvQU6WMB-",
        "outputId": "54d33e11-fb19-4dcc-d1c7-9e48376d80c3"
      },
      "execution_count": 413,
      "outputs": [
        {
          "output_type": "stream",
          "name": "stdout",
          "text": [
            "   乗客クラス  年齢  兄弟と配偶者  親と子供  ...  性別_male  チケット番号_2651  客室番号_C99  出港地_C\n",
            "0      3  13       1     0  ...        0            1         1      1\n",
            "1      2  13       1     0  ...        0            1         1      1\n",
            "2      2  13       1     0  ...        1            1         1      1\n",
            "\n",
            "[3 rows x 13 columns]\n"
          ]
        }
      ]
    },
    {
      "cell_type": "code",
      "source": [
        "# 必要な列のみ取得する\n",
        "predict_data = predict_data.loc[:, ['乗客クラス', '性別_female', '性別_male', '兄弟と配偶者', '親と子供']]"
      ],
      "metadata": {
        "id": "DA3zwYnXS91j"
      },
      "execution_count": 414,
      "outputs": []
    },
    {
      "cell_type": "code",
      "source": [
        "# 以下のデータをもとにモデルで予測した結果を表示する\n",
        "model.predict(predict_data)"
      ],
      "metadata": {
        "colab": {
          "base_uri": "https://localhost:8080/"
        },
        "id": "fQffGO9oRJQx",
        "outputId": "0589533b-7eb8-4872-dce7-2a09c6c1c9ff"
      },
      "execution_count": 415,
      "outputs": [
        {
          "output_type": "execute_result",
          "data": {
            "text/plain": [
              "array([1, 1, 0])"
            ]
          },
          "metadata": {},
          "execution_count": 415
        }
      ]
    }
  ]
}