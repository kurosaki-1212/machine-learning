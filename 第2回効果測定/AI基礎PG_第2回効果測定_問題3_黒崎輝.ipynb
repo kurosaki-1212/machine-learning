{
  "nbformat": 4,
  "nbformat_minor": 0,
  "metadata": {
    "colab": {
      "name": "AI基礎PG_第2回効果測定_問題3_黒崎輝.ipynb",
      "provenance": [],
      "collapsed_sections": []
    },
    "kernelspec": {
      "name": "python3",
      "display_name": "Python 3"
    },
    "language_info": {
      "name": "python"
    }
  },
  "cells": [
    {
      "cell_type": "code",
      "execution_count": 227,
      "metadata": {
        "id": "EVKbY4q7uJ2_",
        "colab": {
          "base_uri": "https://localhost:8080/"
        },
        "outputId": "ce1d0ce0-e8be-4893-e8dc-c519886c4c43"
      },
      "outputs": [
        {
          "output_type": "stream",
          "name": "stdout",
          "text": [
            "Requirement already satisfied: japanize-matplotlib in /usr/local/lib/python3.7/dist-packages (1.1.3)\n",
            "Requirement already satisfied: matplotlib in /usr/local/lib/python3.7/dist-packages (from japanize-matplotlib) (3.2.2)\n",
            "Requirement already satisfied: cycler>=0.10 in /usr/local/lib/python3.7/dist-packages (from matplotlib->japanize-matplotlib) (0.11.0)\n",
            "Requirement already satisfied: numpy>=1.11 in /usr/local/lib/python3.7/dist-packages (from matplotlib->japanize-matplotlib) (1.21.5)\n",
            "Requirement already satisfied: pyparsing!=2.0.4,!=2.1.2,!=2.1.6,>=2.0.1 in /usr/local/lib/python3.7/dist-packages (from matplotlib->japanize-matplotlib) (3.0.7)\n",
            "Requirement already satisfied: python-dateutil>=2.1 in /usr/local/lib/python3.7/dist-packages (from matplotlib->japanize-matplotlib) (2.8.2)\n",
            "Requirement already satisfied: kiwisolver>=1.0.1 in /usr/local/lib/python3.7/dist-packages (from matplotlib->japanize-matplotlib) (1.3.2)\n",
            "Requirement already satisfied: six>=1.5 in /usr/local/lib/python3.7/dist-packages (from python-dateutil>=2.1->matplotlib->japanize-matplotlib) (1.15.0)\n"
          ]
        }
      ],
      "source": [
        "!pip install japanize-matplotlib\n",
        "import japanize_matplotlib\n",
        "\n",
        "# matplotlibの図をセルに表示するための設定\n",
        "%matplotlib inline"
      ]
    },
    {
      "cell_type": "code",
      "source": [
        "# pandasのインポート\n",
        "import pandas as pd\n",
        "\n",
        "# CSVの読み込み\n",
        "df1 = pd.read_csv('Boston2_kouka2_1.tsv', sep = '\\t')\n",
        "df2 = pd.read_csv('Boston2_kouka2_2.tsv', sep = '\\t')\n",
        "\n",
        "# 正しく読み込めているかを確認するため、それぞれのデータフレームの内容を表示する\n",
        "print('===Boston2_kouka2_1.csv===')\n",
        "print(df1.head())\n",
        "\n",
        "print('===Boston2_kouka2_2.csv===')\n",
        "print(df2.head())"
      ],
      "metadata": {
        "colab": {
          "base_uri": "https://localhost:8080/"
        },
        "id": "s09RzgRb6aUN",
        "outputId": "ef5a74fc-a5c6-478e-f15f-a8846ee1b375"
      },
      "execution_count": 228,
      "outputs": [
        {
          "output_type": "stream",
          "name": "stdout",
          "text": [
            "===Boston2_kouka2_1.csv===\n",
            "         犯罪    広さ     産業  川辺  窒素酸化物  ...   税金  生徒と先生      黒人    低所得    価格\n",
            "0      high   0.0  18.10  no  0.718  ...  666   20.2  354.70   7.12  27.5\n",
            "1       low   0.0   8.14  no  0.538  ...  307   21.0  232.60  27.71  13.2\n",
            "2  very_low  82.5   2.03  no  0.415  ...  348   14.7  393.77   7.43  24.1\n",
            "3       low   0.0  21.89  no  0.624  ...  437   21.2  396.90  18.46  17.8\n",
            "4      high   0.0  18.10  no  0.614  ...  666   20.2  374.68  11.66  29.8\n",
            "\n",
            "[5 rows x 14 columns]\n",
            "===Boston2_kouka2_2.csv===\n",
            "         犯罪    広さ     産業  川辺  窒素酸化物  ...   税金  生徒と先生      黒人    低所得    価格\n",
            "0       low   0.0   8.14  no  0.538  ...  307   21.0  392.53  13.83  19.6\n",
            "1  very_low   0.0   4.05  no  0.510  ...  296   16.6  395.50   9.04  23.6\n",
            "2  very_low  40.0   6.41  no  0.447  ...  254   17.6  396.90   2.98  32.0\n",
            "3       low   0.0   9.90  no  0.544  ...  304   18.4  395.21  10.36  23.1\n",
            "4      high   0.0  18.10  no  0.718  ...  666   20.2  318.75  15.02  16.7\n",
            "\n",
            "[5 rows x 14 columns]\n"
          ]
        }
      ]
    },
    {
      "cell_type": "code",
      "source": [
        "# データフレームを行方向に連結する\n",
        "# この際、同じインデックス名がつくのを防ぐため、ignore_index=Trueとする\n",
        "df = pd.concat([df1, df2], axis=0, ignore_index=True)\n",
        "\n",
        "# 正しく連結できているかを確認するため、行数、列数を表示する\n",
        "print(df.shape)"
      ],
      "metadata": {
        "colab": {
          "base_uri": "https://localhost:8080/"
        },
        "id": "epiYcy_568b6",
        "outputId": "7d07a19d-5af5-4409-f3e8-df599f59c275"
      },
      "execution_count": 229,
      "outputs": [
        {
          "output_type": "stream",
          "name": "stdout",
          "text": [
            "(100, 14)\n"
          ]
        }
      ]
    },
    {
      "cell_type": "code",
      "source": [
        "# 文字列データをダミー変数化する\n",
        "# ダミー変数化の結果が変わらないよう、データ分割前にダミー変数化を実施する\n",
        "# データフレームを丸ごと渡すことで、文字の列のみダミー変数化し、それ以外は元のままとしたデータフレームを取得できる\n",
        "df_dummied = pd.get_dummies(df, drop_first=True)\n",
        "\n",
        "# 正しくダミー変数化されていることを確認するため、内容を表示する\n",
        "df_dummied.head()"
      ],
      "metadata": {
        "colab": {
          "base_uri": "https://localhost:8080/",
          "height": 206
        },
        "id": "PEza0z7s7YPL",
        "outputId": "e3a93f58-539a-411b-8566-ea9b9bfcba11"
      },
      "execution_count": 230,
      "outputs": [
        {
          "output_type": "execute_result",
          "data": {
            "text/html": [
              "\n",
              "  <div id=\"df-96067798-f503-4169-a988-f41e9f0a15f6\">\n",
              "    <div class=\"colab-df-container\">\n",
              "      <div>\n",
              "<style scoped>\n",
              "    .dataframe tbody tr th:only-of-type {\n",
              "        vertical-align: middle;\n",
              "    }\n",
              "\n",
              "    .dataframe tbody tr th {\n",
              "        vertical-align: top;\n",
              "    }\n",
              "\n",
              "    .dataframe thead th {\n",
              "        text-align: right;\n",
              "    }\n",
              "</style>\n",
              "<table border=\"1\" class=\"dataframe\">\n",
              "  <thead>\n",
              "    <tr style=\"text-align: right;\">\n",
              "      <th></th>\n",
              "      <th>広さ</th>\n",
              "      <th>産業</th>\n",
              "      <th>窒素酸化物</th>\n",
              "      <th>部屋数</th>\n",
              "      <th>古さ</th>\n",
              "      <th>主要施設</th>\n",
              "      <th>高速道路</th>\n",
              "      <th>税金</th>\n",
              "      <th>生徒と先生</th>\n",
              "      <th>黒人</th>\n",
              "      <th>低所得</th>\n",
              "      <th>価格</th>\n",
              "      <th>犯罪_low</th>\n",
              "      <th>犯罪_very_low</th>\n",
              "      <th>川辺_yes</th>\n",
              "    </tr>\n",
              "  </thead>\n",
              "  <tbody>\n",
              "    <tr>\n",
              "      <th>0</th>\n",
              "      <td>0.0</td>\n",
              "      <td>18.10</td>\n",
              "      <td>0.718</td>\n",
              "      <td>3.561</td>\n",
              "      <td>87.9</td>\n",
              "      <td>1.6132</td>\n",
              "      <td>24.0</td>\n",
              "      <td>666</td>\n",
              "      <td>20.2</td>\n",
              "      <td>354.70</td>\n",
              "      <td>7.12</td>\n",
              "      <td>27.5</td>\n",
              "      <td>0</td>\n",
              "      <td>0</td>\n",
              "      <td>0</td>\n",
              "    </tr>\n",
              "    <tr>\n",
              "      <th>1</th>\n",
              "      <td>0.0</td>\n",
              "      <td>8.14</td>\n",
              "      <td>0.538</td>\n",
              "      <td>5.950</td>\n",
              "      <td>82.0</td>\n",
              "      <td>3.9900</td>\n",
              "      <td>4.0</td>\n",
              "      <td>307</td>\n",
              "      <td>21.0</td>\n",
              "      <td>232.60</td>\n",
              "      <td>27.71</td>\n",
              "      <td>13.2</td>\n",
              "      <td>1</td>\n",
              "      <td>0</td>\n",
              "      <td>0</td>\n",
              "    </tr>\n",
              "    <tr>\n",
              "      <th>2</th>\n",
              "      <td>82.5</td>\n",
              "      <td>2.03</td>\n",
              "      <td>0.415</td>\n",
              "      <td>6.162</td>\n",
              "      <td>38.4</td>\n",
              "      <td>6.2700</td>\n",
              "      <td>2.0</td>\n",
              "      <td>348</td>\n",
              "      <td>14.7</td>\n",
              "      <td>393.77</td>\n",
              "      <td>7.43</td>\n",
              "      <td>24.1</td>\n",
              "      <td>0</td>\n",
              "      <td>1</td>\n",
              "      <td>0</td>\n",
              "    </tr>\n",
              "    <tr>\n",
              "      <th>3</th>\n",
              "      <td>0.0</td>\n",
              "      <td>21.89</td>\n",
              "      <td>0.624</td>\n",
              "      <td>6.151</td>\n",
              "      <td>97.9</td>\n",
              "      <td>1.6687</td>\n",
              "      <td>4.0</td>\n",
              "      <td>437</td>\n",
              "      <td>21.2</td>\n",
              "      <td>396.90</td>\n",
              "      <td>18.46</td>\n",
              "      <td>17.8</td>\n",
              "      <td>1</td>\n",
              "      <td>0</td>\n",
              "      <td>0</td>\n",
              "    </tr>\n",
              "    <tr>\n",
              "      <th>4</th>\n",
              "      <td>0.0</td>\n",
              "      <td>18.10</td>\n",
              "      <td>0.614</td>\n",
              "      <td>6.980</td>\n",
              "      <td>67.6</td>\n",
              "      <td>2.5329</td>\n",
              "      <td>24.0</td>\n",
              "      <td>666</td>\n",
              "      <td>20.2</td>\n",
              "      <td>374.68</td>\n",
              "      <td>11.66</td>\n",
              "      <td>29.8</td>\n",
              "      <td>0</td>\n",
              "      <td>0</td>\n",
              "      <td>0</td>\n",
              "    </tr>\n",
              "  </tbody>\n",
              "</table>\n",
              "</div>\n",
              "      <button class=\"colab-df-convert\" onclick=\"convertToInteractive('df-96067798-f503-4169-a988-f41e9f0a15f6')\"\n",
              "              title=\"Convert this dataframe to an interactive table.\"\n",
              "              style=\"display:none;\">\n",
              "        \n",
              "  <svg xmlns=\"http://www.w3.org/2000/svg\" height=\"24px\"viewBox=\"0 0 24 24\"\n",
              "       width=\"24px\">\n",
              "    <path d=\"M0 0h24v24H0V0z\" fill=\"none\"/>\n",
              "    <path d=\"M18.56 5.44l.94 2.06.94-2.06 2.06-.94-2.06-.94-.94-2.06-.94 2.06-2.06.94zm-11 1L8.5 8.5l.94-2.06 2.06-.94-2.06-.94L8.5 2.5l-.94 2.06-2.06.94zm10 10l.94 2.06.94-2.06 2.06-.94-2.06-.94-.94-2.06-.94 2.06-2.06.94z\"/><path d=\"M17.41 7.96l-1.37-1.37c-.4-.4-.92-.59-1.43-.59-.52 0-1.04.2-1.43.59L10.3 9.45l-7.72 7.72c-.78.78-.78 2.05 0 2.83L4 21.41c.39.39.9.59 1.41.59.51 0 1.02-.2 1.41-.59l7.78-7.78 2.81-2.81c.8-.78.8-2.07 0-2.86zM5.41 20L4 18.59l7.72-7.72 1.47 1.35L5.41 20z\"/>\n",
              "  </svg>\n",
              "      </button>\n",
              "      \n",
              "  <style>\n",
              "    .colab-df-container {\n",
              "      display:flex;\n",
              "      flex-wrap:wrap;\n",
              "      gap: 12px;\n",
              "    }\n",
              "\n",
              "    .colab-df-convert {\n",
              "      background-color: #E8F0FE;\n",
              "      border: none;\n",
              "      border-radius: 50%;\n",
              "      cursor: pointer;\n",
              "      display: none;\n",
              "      fill: #1967D2;\n",
              "      height: 32px;\n",
              "      padding: 0 0 0 0;\n",
              "      width: 32px;\n",
              "    }\n",
              "\n",
              "    .colab-df-convert:hover {\n",
              "      background-color: #E2EBFA;\n",
              "      box-shadow: 0px 1px 2px rgba(60, 64, 67, 0.3), 0px 1px 3px 1px rgba(60, 64, 67, 0.15);\n",
              "      fill: #174EA6;\n",
              "    }\n",
              "\n",
              "    [theme=dark] .colab-df-convert {\n",
              "      background-color: #3B4455;\n",
              "      fill: #D2E3FC;\n",
              "    }\n",
              "\n",
              "    [theme=dark] .colab-df-convert:hover {\n",
              "      background-color: #434B5C;\n",
              "      box-shadow: 0px 1px 3px 1px rgba(0, 0, 0, 0.15);\n",
              "      filter: drop-shadow(0px 1px 2px rgba(0, 0, 0, 0.3));\n",
              "      fill: #FFFFFF;\n",
              "    }\n",
              "  </style>\n",
              "\n",
              "      <script>\n",
              "        const buttonEl =\n",
              "          document.querySelector('#df-96067798-f503-4169-a988-f41e9f0a15f6 button.colab-df-convert');\n",
              "        buttonEl.style.display =\n",
              "          google.colab.kernel.accessAllowed ? 'block' : 'none';\n",
              "\n",
              "        async function convertToInteractive(key) {\n",
              "          const element = document.querySelector('#df-96067798-f503-4169-a988-f41e9f0a15f6');\n",
              "          const dataTable =\n",
              "            await google.colab.kernel.invokeFunction('convertToInteractive',\n",
              "                                                     [key], {});\n",
              "          if (!dataTable) return;\n",
              "\n",
              "          const docLinkHtml = 'Like what you see? Visit the ' +\n",
              "            '<a target=\"_blank\" href=https://colab.research.google.com/notebooks/data_table.ipynb>data table notebook</a>'\n",
              "            + ' to learn more about interactive tables.';\n",
              "          element.innerHTML = '';\n",
              "          dataTable['output_type'] = 'display_data';\n",
              "          await google.colab.output.renderOutput(dataTable, element);\n",
              "          const docLink = document.createElement('div');\n",
              "          docLink.innerHTML = docLinkHtml;\n",
              "          element.appendChild(docLink);\n",
              "        }\n",
              "      </script>\n",
              "    </div>\n",
              "  </div>\n",
              "  "
            ],
            "text/plain": [
              "     広さ     産業  窒素酸化物    部屋数    古さ  ...    低所得    価格  犯罪_low  犯罪_very_low  川辺_yes\n",
              "0   0.0  18.10  0.718  3.561  87.9  ...   7.12  27.5       0            0       0\n",
              "1   0.0   8.14  0.538  5.950  82.0  ...  27.71  13.2       1            0       0\n",
              "2  82.5   2.03  0.415  6.162  38.4  ...   7.43  24.1       0            1       0\n",
              "3   0.0  21.89  0.624  6.151  97.9  ...  18.46  17.8       1            0       0\n",
              "4   0.0  18.10  0.614  6.980  67.6  ...  11.66  29.8       0            0       0\n",
              "\n",
              "[5 rows x 15 columns]"
            ]
          },
          "metadata": {},
          "execution_count": 230
        }
      ]
    },
    {
      "cell_type": "code",
      "source": [
        "# 「部屋数」のヒストグラムを確認する\n",
        "df_dummied['部屋数'].plot(kind='hist')"
      ],
      "metadata": {
        "colab": {
          "base_uri": "https://localhost:8080/",
          "height": 281
        },
        "id": "FrZcf5di7rUk",
        "outputId": "c64319e5-0a21-46f4-ab93-5c6b1bc86e10"
      },
      "execution_count": 231,
      "outputs": [
        {
          "output_type": "execute_result",
          "data": {
            "text/plain": [
              "<matplotlib.axes._subplots.AxesSubplot at 0x7f19aae7f190>"
            ]
          },
          "metadata": {},
          "execution_count": 231
        },
        {
          "output_type": "display_data",
          "data": {
            "image/png": "[encoded data removed]",
            "text/plain": [
              "<Figure size 432x288 with 1 Axes>"
            ]
          },
          "metadata": {
            "needs_background": "light"
          }
        }
      ]
    },
    {
      "cell_type": "code",
      "source": [
        "# 外れ値を視覚的に確認するため、「価格」とそれ以外の全ての列の組み合わせの散布図を表示する\n",
        "# for文を使って散布図を描き、「価格」同士の散布図は意味がないので描かない\n",
        "for name in df_dummied.columns:\n",
        "  if name == '価格':\n",
        "    continue\n",
        "  df_dummied.plot(kind = 'scatter', x = name, y = '価格')"
      ],
      "metadata": {
        "colab": {
          "base_uri": "https://localhost:8080/",
          "height": 1000
        },
        "id": "4c8tWfIn8HOn",
        "outputId": "33091c99-d6e8-41e3-dca9-d215f4d7a090"
      },
      "execution_count": 232,
      "outputs": [
        {
          "output_type": "display_data",
          "data": {
            "image/png": "[encoded data removed]",
            "text/plain": [
              "<Figure size 432x288 with 1 Axes>"
            ]
          },
          "metadata": {
            "needs_background": "light"
          }
        },
        {
          "output_type": "display_data",
          "data": {
            "image/png": "[encoded data removed]",
            "text/plain": [
              "<Figure size 432x288 with 1 Axes>"
            ]
          },
          "metadata": {
            "needs_background": "light"
          }
        },
        {
          "output_type": "display_data",
          "data": {
            "image/png": "[encoded data removed]",
            "text/plain": [
              "<Figure size 432x288 with 1 Axes>"
            ]
          },
          "metadata": {
            "needs_background": "light"
          }
        },
        {
          "output_type": "display_data",
          "data": {
            "image/png": "[encoded data removed]",
            "text/plain": [
              "<Figure size 432x288 with 1 Axes>"
            ]
          },
          "metadata": {
            "needs_background": "light"
          }
        },
        {
          "output_type": "display_data",
          "data": {
            "image/png": "[encoded data removed]",
            "text/plain": [
              "<Figure size 432x288 with 1 Axes>"
            ]
          },
          "metadata": {
            "needs_background": "light"
          }
        },
        {
          "output_type": "display_data",
          "data": {
            "image/png": "[encoded data removed]",
            "text/plain": [
              "<Figure size 432x288 with 1 Axes>"
            ]
          },
          "metadata": {
            "needs_background": "light"
          }
        },
        {
          "output_type": "display_data",
          "data": {
            "image/png": "[encoded data removed]",
            "text/plain": [
              "<Figure size 432x288 with 1 Axes>"
            ]
          },
          "metadata": {
            "needs_background": "light"
          }
        },
        {
          "output_type": "display_data",
          "data": {
            "image/png": "[encoded data removed]",
            "text/plain": [
              "<Figure size 432x288 with 1 Axes>"
            ]
          },
          "metadata": {
            "needs_background": "light"
          }
        },
        {
          "output_type": "display_data",
          "data": {
            "image/png": "[encoded data removed]",
            "text/plain": [
              "<Figure size 432x288 with 1 Axes>"
            ]
          },
          "metadata": {
            "needs_background": "light"
          }
        },
        {
          "output_type": "display_data",
          "data": {
            "image/png": "[encoded data removed]",
            "text/plain": [
              "<Figure size 432x288 with 1 Axes>"
            ]
          },
          "metadata": {
            "needs_background": "light"
          }
        },
        {
          "output_type": "display_data",
          "data": {
            "image/png": "[encoded data removed]",
            "text/plain": [
              "<Figure size 432x288 with 1 Axes>"
            ]
          },
          "metadata": {
            "needs_background": "light"
          }
        },
        {
          "output_type": "display_data",
          "data": {
            "image/png": "[encoded data removed]",
            "text/plain": [
              "<Figure size 432x288 with 1 Axes>"
            ]
          },
          "metadata": {
            "needs_background": "light"
          }
        },
        {
          "output_type": "display_data",
          "data": {
            "image/png": "[encoded data removed]",
            "text/plain": [
              "<Figure size 432x288 with 1 Axes>"
            ]
          },
          "metadata": {
            "needs_background": "light"
          }
        },
        {
          "output_type": "display_data",
          "data": {
            "image/png": "[encoded data removed]",
            "text/plain": [
              "<Figure size 432x288 with 1 Axes>"
            ]
          },
          "metadata": {
            "needs_background": "light"
          }
        }
      ]
    },
    {
      "cell_type": "code",
      "source": [
        "# 「価格」と「部屋数」の散布図より、外れ値があると判断した\n",
        "# 該当箇所のデータを削除する前に、正しく外れ値を抽出できているか確認する\n",
        "print(df_dummied[(df['価格'] < 30) & (df['部屋数'] < 5)])\n",
        "print(df_dummied[(df['価格'] > 40) & (df['部屋数'] < 6)])\n",
        "print(df_dummied[(df['価格'] < 10) & (df['部屋数'] > 8)])"
      ],
      "metadata": {
        "colab": {
          "base_uri": "https://localhost:8080/"
        },
        "id": "jYGp4qw_8s8G",
        "outputId": "2e03edc0-8ca3-4810-832c-e3caf9280d95"
      },
      "execution_count": 233,
      "outputs": [
        {
          "output_type": "stream",
          "name": "stdout",
          "text": [
            "     広さ    産業  窒素酸化物    部屋数     古さ  ...    低所得    価格  犯罪_low  犯罪_very_low  川辺_yes\n",
            "0   0.0  18.1  0.718  3.561   87.9  ...   7.12  27.5       0            0       0\n",
            "88  0.0  18.1  0.659  4.138  100.0  ...  23.34  11.9       0            0       0\n",
            "\n",
            "[2 rows x 15 columns]\n",
            "     広さ    産業  窒素酸化物   部屋数     古さ  ...   低所得    価格  犯罪_low  犯罪_very_low  川辺_yes\n",
            "76  0.0  18.1  0.631  4.97  100.0  ...  3.26  50.0       0            0       0\n",
            "\n",
            "[1 rows x 15 columns]\n",
            "      広さ    産業  窒素酸化物    部屋数    古さ  ...   低所得   価格  犯罪_low  犯罪_very_low  川辺_yes\n",
            "11  20.0  3.97  0.647  8.704  86.9  ...  5.12  5.0       1            0       0\n",
            "\n",
            "[1 rows x 15 columns]\n"
          ]
        }
      ]
    },
    {
      "cell_type": "code",
      "source": [
        "# 外れ値のindexを取得\n",
        "outlier1 = df_dummied[(df['価格'] < 30) & (df['部屋数'] < 5)].index\n",
        "# 外れ値を削除\n",
        "df_dropped = df_dummied.drop(outlier1)\n",
        "\n",
        "# 外れ値のindexを取得\n",
        "outlier2 = df_dummied[(df['価格'] > 40) & (df['部屋数'] < 6)].index\n",
        "# 外れ値を削除\n",
        "df_dropped = df_dropped.drop(outlier2)\n",
        "\n",
        "# 外れ値のindexを取得\n",
        "outlier3 = df_dummied[(df['価格'] < 10) & (df['部屋数'] > 8)].index\n",
        "# 外れ値を削除\n",
        "df_dropped = df_dropped.drop(outlier3)\n",
        "\n",
        "# 外れ値削除後の行列数を表示し、4行減っていることを確認する\n",
        "df_dropped.shape"
      ],
      "metadata": {
        "colab": {
          "base_uri": "https://localhost:8080/"
        },
        "id": "Mh7gZ7-X9lfE",
        "outputId": "72d2e698-ee60-469f-a15f-399ea123f0fb"
      },
      "execution_count": 234,
      "outputs": [
        {
          "output_type": "execute_result",
          "data": {
            "text/plain": [
              "(96, 15)"
            ]
          },
          "metadata": {},
          "execution_count": 234
        }
      ]
    },
    {
      "cell_type": "code",
      "source": [
        "# 各列に欠損値がどれだけ含まれているかを確認する\n",
        "# 欠損値がある場合は穴埋めを考えるが、欠損値が多く分析で使えない列かもしれない\n",
        "df_dropped.isnull().sum()"
      ],
      "metadata": {
        "colab": {
          "base_uri": "https://localhost:8080/"
        },
        "id": "HhSAaRdy-bzV",
        "outputId": "e5f11617-d577-4682-b32b-9b6300a19296"
      },
      "execution_count": 235,
      "outputs": [
        {
          "output_type": "execute_result",
          "data": {
            "text/plain": [
              "広さ             0\n",
              "産業             0\n",
              "窒素酸化物          1\n",
              "部屋数            0\n",
              "古さ             0\n",
              "主要施設           0\n",
              "高速道路           1\n",
              "税金             0\n",
              "生徒と先生          0\n",
              "黒人             0\n",
              "低所得            0\n",
              "価格             0\n",
              "犯罪_low         0\n",
              "犯罪_very_low    0\n",
              "川辺_yes         0\n",
              "dtype: int64"
            ]
          },
          "metadata": {},
          "execution_count": 235
        }
      ]
    },
    {
      "cell_type": "code",
      "source": [
        "# 中央値で穴埋めすることとし、モデルの性能が良くなければ別の対処も考えることにする\n",
        "df_fillna = df_dropped.fillna(df_dropped.median())\n",
        "\n",
        "# 欠損値が補完されたことを確認する\n",
        "df_fillna.isnull().any( axis=0 )"
      ],
      "metadata": {
        "colab": {
          "base_uri": "https://localhost:8080/"
        },
        "id": "mbijzHmP_G6v",
        "outputId": "4c034e26-c585-489d-d656-be25b3660eee"
      },
      "execution_count": 236,
      "outputs": [
        {
          "output_type": "execute_result",
          "data": {
            "text/plain": [
              "広さ             False\n",
              "産業             False\n",
              "窒素酸化物          False\n",
              "部屋数            False\n",
              "古さ             False\n",
              "主要施設           False\n",
              "高速道路           False\n",
              "税金             False\n",
              "生徒と先生          False\n",
              "黒人             False\n",
              "低所得            False\n",
              "価格             False\n",
              "犯罪_low         False\n",
              "犯罪_very_low    False\n",
              "川辺_yes         False\n",
              "dtype: bool"
            ]
          },
          "metadata": {},
          "execution_count": 236
        }
      ]
    },
    {
      "cell_type": "code",
      "source": [
        "# 「価格」と関係のある項目を散布図から視覚的に見つけることもできるが、数値(相関係数)でも確認しておく\n",
        "cor = df_fillna.corr()['価格']\n",
        "\n",
        "# 相関係数の絶対値の降順に表示する\n",
        "cor.map(abs).sort_values(ascending = False)"
      ],
      "metadata": {
        "colab": {
          "base_uri": "https://localhost:8080/"
        },
        "id": "ZZAxgJpX_Yzl",
        "outputId": "6dc39178-a5fe-46a3-cf90-5e5f5af756ce"
      },
      "execution_count": 237,
      "outputs": [
        {
          "output_type": "execute_result",
          "data": {
            "text/plain": [
              "価格             1.000000\n",
              "部屋数            0.843683\n",
              "低所得            0.678873\n",
              "生徒と先生          0.455235\n",
              "産業             0.447182\n",
              "税金             0.407852\n",
              "窒素酸化物          0.374507\n",
              "古さ             0.346462\n",
              "高速道路           0.315428\n",
              "黒人             0.273401\n",
              "犯罪_very_low    0.231832\n",
              "広さ             0.209639\n",
              "川辺_yes         0.139026\n",
              "主要施設           0.103802\n",
              "犯罪_low         0.096500\n",
              "Name: 価格, dtype: float64"
            ]
          },
          "metadata": {},
          "execution_count": 237
        }
      ]
    },
    {
      "cell_type": "code",
      "source": [
        "# 相関係数が四捨五入して0.6以上を特徴量に含めることとする\n",
        "X = df_fillna[ ['部屋数', '低所得'] ]\n",
        "y = df_fillna[['価格']]"
      ],
      "metadata": {
        "id": "tT5kphqp_l4P"
      },
      "execution_count": 238,
      "outputs": []
    },
    {
      "cell_type": "code",
      "source": [
        "# 多項式特徴量として部屋数の二乗を「部屋数2」として加える\n",
        "X['部屋数2'] = X['部屋数'] ** 2"
      ],
      "metadata": {
        "colab": {
          "base_uri": "https://localhost:8080/"
        },
        "id": "QBC2qNM7_6Ra",
        "outputId": "6e042d46-6274-4254-e1ec-005b5935803c"
      },
      "execution_count": 239,
      "outputs": [
        {
          "output_type": "stream",
          "name": "stderr",
          "text": [
            "/usr/local/lib/python3.7/dist-packages/ipykernel_launcher.py:2: SettingWithCopyWarning: \n",
            "A value is trying to be set on a copy of a slice from a DataFrame.\n",
            "Try using .loc[row_indexer,col_indexer] = value instead\n",
            "\n",
            "See the caveats in the documentation: https://pandas.pydata.org/pandas-docs/stable/user_guide/indexing.html#returning-a-view-versus-a-copy\n",
            "  \n"
          ]
        }
      ]
    },
    {
      "cell_type": "code",
      "source": [
        "# LinearRegressionをインポートする\n",
        "from sklearn.linear_model import LinearRegression\n",
        "# train_test_splitをインポートする\n",
        "from sklearn.model_selection import train_test_split\n",
        "# StandardScalerをインポートする\n",
        "from sklearn.preprocessing import StandardScaler\n",
        "\n",
        "# チューニングで学習を試しやすいようlearn関数を定義する\n",
        "def learn(x, t):\n",
        "    X_train, X_val, y_train, y_val = train_test_split(x, t, test_size = 0.2, random_state = 0)\n",
        "\n",
        "    # 訓練データを標準化\n",
        "    sc_model_X = StandardScaler()\n",
        "    sc_model_y = StandardScaler()\n",
        "    sc_model_X.fit(X_train)\n",
        "    sc_X_train = sc_model_X.transform(X_train)\n",
        "    sc_model_y.fit(y_train)\n",
        "    sc_y_train = sc_model_y.transform(y_train)\n",
        "\n",
        "    # 学習させる\n",
        "    model = LinearRegression()\n",
        "    model.fit(sc_X_train, sc_y_train)\n",
        "\n",
        "    # 検証データを標準化\n",
        "    sc_X_val = sc_model_X.transform(X_val)\n",
        "    sc_y_val = sc_model_y.transform(y_val)\n",
        "\n",
        "    # 訓練データと検証データの決定係数計算\n",
        "    train_score = model.score(sc_X_train, sc_y_train)\n",
        "    val_score = model.score(sc_X_val, sc_y_val)\n",
        "    return train_score, val_score"
      ],
      "metadata": {
        "id": "tCHuahJKFEwE"
      },
      "execution_count": 240,
      "outputs": []
    },
    {
      "cell_type": "code",
      "source": [
        "# 低所得列を2乗したシリーズを、新しい列'低所得2'として、特徴量Xに追加する\n",
        "X['低所得2'] = X['低所得'] ** 2\n",
        "\n",
        "# 新しい特徴量での性能を確認(learn関数を特徴量x、正解データtで呼び出す)\n",
        "s1, s2 = learn(X, y)\n",
        "\n",
        "# 結果を表示する\n",
        "print('訓練データでの決定係数:',s1)\n",
        "print('検証データでの決定係数:',s2)"
      ],
      "metadata": {
        "colab": {
          "base_uri": "https://localhost:8080/"
        },
        "id": "9gccYnmRFdYm",
        "outputId": "dd48ca83-a01f-4bac-dfd9-fa1a35a8abf9"
      },
      "execution_count": 241,
      "outputs": [
        {
          "output_type": "stream",
          "name": "stdout",
          "text": [
            "訓練データでの決定係数: 0.8471098690192963\n",
            "検証データでの決定係数: 0.7495506613238483\n"
          ]
        },
        {
          "output_type": "stream",
          "name": "stderr",
          "text": [
            "/usr/local/lib/python3.7/dist-packages/ipykernel_launcher.py:2: SettingWithCopyWarning: \n",
            "A value is trying to be set on a copy of a slice from a DataFrame.\n",
            "Try using .loc[row_indexer,col_indexer] = value instead\n",
            "\n",
            "See the caveats in the documentation: https://pandas.pydata.org/pandas-docs/stable/user_guide/indexing.html#returning-a-view-versus-a-copy\n",
            "  \n"
          ]
        }
      ]
    },
    {
      "cell_type": "code",
      "source": [
        "# 回帰（LinearRegression）モデルでk分割交差検証を実施する\n",
        "# k分割交差検証(回帰モデル)をインポート\n",
        "from sklearn.model_selection import KFold\n",
        "\n",
        "# cross_validateインポート\n",
        "from sklearn.model_selection import cross_validate\n",
        "\n",
        "# LinearRegressionをインポート\n",
        "from sklearn.linear_model import LinearRegression\n",
        "\n",
        "# KFoldのオブジェクトを作成する\n",
        "# 分割数は3とする\n",
        "kf = KFold(n_splits = 3, shuffle = True, random_state = 0)\n",
        "\n",
        "# 回帰モデルを生成する\n",
        "model = LinearRegression()\n",
        "\n",
        "# 交差検証を行い、結果をresultへ代入する\n",
        "# 評価指標は'r2(決定係数)'とする\n",
        "# 評価指標は'accuracy(正解率)'とする\n",
        "# 訓練データでの結果も取得する\n",
        "result = cross_validate(model, X, y, cv=kf, scoring='r2', return_train_score = True)\n",
        "\n",
        "# 検証結果データ(辞書型)を表示する\n",
        "print(result)"
      ],
      "metadata": {
        "colab": {
          "base_uri": "https://localhost:8080/"
        },
        "id": "48kTBG4vF6eZ",
        "outputId": "b63b658f-e4ab-45fc-d71e-277b0862cecf"
      },
      "execution_count": 242,
      "outputs": [
        {
          "output_type": "stream",
          "name": "stdout",
          "text": [
            "{'fit_time': array([0.00391316, 0.00344062, 0.003546  ]), 'score_time': array([0.00282311, 0.00289416, 0.00282526]), 'test_score': array([0.77809298, 0.84755127, 0.8171189 ]), 'train_score': array([0.85538705, 0.81492685, 0.83745551])}\n"
          ]
        }
      ]
    },
    {
      "cell_type": "code",
      "source": [
        "# 検証結果はデータフレームの方が見やすいので、データフレームで確認する\n",
        "pd.DataFrame(result)"
      ],
      "metadata": {
        "colab": {
          "base_uri": "https://localhost:8080/",
          "height": 143
        },
        "id": "AC2U6VvfGx95",
        "outputId": "5c319efb-a598-4843-af00-6d673da0c2aa"
      },
      "execution_count": 243,
      "outputs": [
        {
          "output_type": "execute_result",
          "data": {
            "text/html": [
              "\n",
              "  <div id=\"df-80b536ad-bb90-4355-a727-1106ca51f9a4\">\n",
              "    <div class=\"colab-df-container\">\n",
              "      <div>\n",
              "<style scoped>\n",
              "    .dataframe tbody tr th:only-of-type {\n",
              "        vertical-align: middle;\n",
              "    }\n",
              "\n",
              "    .dataframe tbody tr th {\n",
              "        vertical-align: top;\n",
              "    }\n",
              "\n",
              "    .dataframe thead th {\n",
              "        text-align: right;\n",
              "    }\n",
              "</style>\n",
              "<table border=\"1\" class=\"dataframe\">\n",
              "  <thead>\n",
              "    <tr style=\"text-align: right;\">\n",
              "      <th></th>\n",
              "      <th>fit_time</th>\n",
              "      <th>score_time</th>\n",
              "      <th>test_score</th>\n",
              "      <th>train_score</th>\n",
              "    </tr>\n",
              "  </thead>\n",
              "  <tbody>\n",
              "    <tr>\n",
              "      <th>0</th>\n",
              "      <td>0.003913</td>\n",
              "      <td>0.002823</td>\n",
              "      <td>0.778093</td>\n",
              "      <td>0.855387</td>\n",
              "    </tr>\n",
              "    <tr>\n",
              "      <th>1</th>\n",
              "      <td>0.003441</td>\n",
              "      <td>0.002894</td>\n",
              "      <td>0.847551</td>\n",
              "      <td>0.814927</td>\n",
              "    </tr>\n",
              "    <tr>\n",
              "      <th>2</th>\n",
              "      <td>0.003546</td>\n",
              "      <td>0.002825</td>\n",
              "      <td>0.817119</td>\n",
              "      <td>0.837456</td>\n",
              "    </tr>\n",
              "  </tbody>\n",
              "</table>\n",
              "</div>\n",
              "      <button class=\"colab-df-convert\" onclick=\"convertToInteractive('df-80b536ad-bb90-4355-a727-1106ca51f9a4')\"\n",
              "              title=\"Convert this dataframe to an interactive table.\"\n",
              "              style=\"display:none;\">\n",
              "        \n",
              "  <svg xmlns=\"http://www.w3.org/2000/svg\" height=\"24px\"viewBox=\"0 0 24 24\"\n",
              "       width=\"24px\">\n",
              "    <path d=\"M0 0h24v24H0V0z\" fill=\"none\"/>\n",
              "    <path d=\"M18.56 5.44l.94 2.06.94-2.06 2.06-.94-2.06-.94-.94-2.06-.94 2.06-2.06.94zm-11 1L8.5 8.5l.94-2.06 2.06-.94-2.06-.94L8.5 2.5l-.94 2.06-2.06.94zm10 10l.94 2.06.94-2.06 2.06-.94-2.06-.94-.94-2.06-.94 2.06-2.06.94z\"/><path d=\"M17.41 7.96l-1.37-1.37c-.4-.4-.92-.59-1.43-.59-.52 0-1.04.2-1.43.59L10.3 9.45l-7.72 7.72c-.78.78-.78 2.05 0 2.83L4 21.41c.39.39.9.59 1.41.59.51 0 1.02-.2 1.41-.59l7.78-7.78 2.81-2.81c.8-.78.8-2.07 0-2.86zM5.41 20L4 18.59l7.72-7.72 1.47 1.35L5.41 20z\"/>\n",
              "  </svg>\n",
              "      </button>\n",
              "      \n",
              "  <style>\n",
              "    .colab-df-container {\n",
              "      display:flex;\n",
              "      flex-wrap:wrap;\n",
              "      gap: 12px;\n",
              "    }\n",
              "\n",
              "    .colab-df-convert {\n",
              "      background-color: #E8F0FE;\n",
              "      border: none;\n",
              "      border-radius: 50%;\n",
              "      cursor: pointer;\n",
              "      display: none;\n",
              "      fill: #1967D2;\n",
              "      height: 32px;\n",
              "      padding: 0 0 0 0;\n",
              "      width: 32px;\n",
              "    }\n",
              "\n",
              "    .colab-df-convert:hover {\n",
              "      background-color: #E2EBFA;\n",
              "      box-shadow: 0px 1px 2px rgba(60, 64, 67, 0.3), 0px 1px 3px 1px rgba(60, 64, 67, 0.15);\n",
              "      fill: #174EA6;\n",
              "    }\n",
              "\n",
              "    [theme=dark] .colab-df-convert {\n",
              "      background-color: #3B4455;\n",
              "      fill: #D2E3FC;\n",
              "    }\n",
              "\n",
              "    [theme=dark] .colab-df-convert:hover {\n",
              "      background-color: #434B5C;\n",
              "      box-shadow: 0px 1px 3px 1px rgba(0, 0, 0, 0.15);\n",
              "      filter: drop-shadow(0px 1px 2px rgba(0, 0, 0, 0.3));\n",
              "      fill: #FFFFFF;\n",
              "    }\n",
              "  </style>\n",
              "\n",
              "      <script>\n",
              "        const buttonEl =\n",
              "          document.querySelector('#df-80b536ad-bb90-4355-a727-1106ca51f9a4 button.colab-df-convert');\n",
              "        buttonEl.style.display =\n",
              "          google.colab.kernel.accessAllowed ? 'block' : 'none';\n",
              "\n",
              "        async function convertToInteractive(key) {\n",
              "          const element = document.querySelector('#df-80b536ad-bb90-4355-a727-1106ca51f9a4');\n",
              "          const dataTable =\n",
              "            await google.colab.kernel.invokeFunction('convertToInteractive',\n",
              "                                                     [key], {});\n",
              "          if (!dataTable) return;\n",
              "\n",
              "          const docLinkHtml = 'Like what you see? Visit the ' +\n",
              "            '<a target=\"_blank\" href=https://colab.research.google.com/notebooks/data_table.ipynb>data table notebook</a>'\n",
              "            + ' to learn more about interactive tables.';\n",
              "          element.innerHTML = '';\n",
              "          dataTable['output_type'] = 'display_data';\n",
              "          await google.colab.output.renderOutput(dataTable, element);\n",
              "          const docLink = document.createElement('div');\n",
              "          docLink.innerHTML = docLinkHtml;\n",
              "          element.appendChild(docLink);\n",
              "        }\n",
              "      </script>\n",
              "    </div>\n",
              "  </div>\n",
              "  "
            ],
            "text/plain": [
              "   fit_time  score_time  test_score  train_score\n",
              "0  0.003913    0.002823    0.778093     0.855387\n",
              "1  0.003441    0.002894    0.847551     0.814927\n",
              "2  0.003546    0.002825    0.817119     0.837456"
            ]
          },
          "metadata": {},
          "execution_count": 243
        }
      ]
    },
    {
      "cell_type": "code",
      "source": [
        "# 検証データでの決定係数の平均を表示する\n",
        "# test_scoreの合計 / 検証回数(分割数)\n",
        "result['test_score'].sum() / 3"
      ],
      "metadata": {
        "colab": {
          "base_uri": "https://localhost:8080/"
        },
        "id": "XwG9KLDIGyvU",
        "outputId": "e6a31d24-df20-4f46-9e38-b06ce4dbd44a"
      },
      "execution_count": 244,
      "outputs": [
        {
          "output_type": "execute_result",
          "data": {
            "text/plain": [
              "0.8142543811500045"
            ]
          },
          "metadata": {},
          "execution_count": 244
        }
      ]
    },
    {
      "cell_type": "code",
      "source": [
        "# k分割交差検証でモデルが有効なことがわかったので、訓練データでモデルを作成する\n",
        "# 元のデータフレームを、訓練データとテストデータに分割して回帰(LineaRegression)モデルに学習させる\n",
        "\n",
        "# train_test_splitをインポートする\n",
        "from sklearn.model_selection import train_test_split\n",
        "\n",
        "# X, y を訓練データ、テストデータに分割する\n",
        "X_train, X_test, y_train, y_test = train_test_split(X, y, test_size = 0.3, random_state=0)\n",
        "\n",
        "# 訓練データをモデルに学習させる\n",
        "model.fit(X = X_train, y = y_train)"
      ],
      "metadata": {
        "colab": {
          "base_uri": "https://localhost:8080/"
        },
        "id": "-2lG8fC8G1wM",
        "outputId": "d13e5f69-d604-4aa2-d68c-31faee799b4d"
      },
      "execution_count": 248,
      "outputs": [
        {
          "output_type": "execute_result",
          "data": {
            "text/plain": [
              "LinearRegression()"
            ]
          },
          "metadata": {},
          "execution_count": 248
        }
      ]
    },
    {
      "cell_type": "code",
      "source": [
        "# テストデータで予測した結果と、テストデータの正解データで、まずはMSEを求める\n",
        "# mean_squared_errorのインポート\n",
        "from sklearn.metrics import mean_squared_error\n",
        "\n",
        "# MSEを計算する\n",
        "mse = mean_squared_error(model.predict(X_test), y_test)\n",
        "print('mse:', mse)\n",
        "\n",
        "# MSEから2乗平均平方根誤差(RMSE)を求める\n",
        "# sqrtを使うため、mathをインポート\n",
        "import math\n",
        "\n",
        "# RMSEを計算する\n",
        "print('rmse:', math.sqrt(mse) )"
      ],
      "metadata": {
        "colab": {
          "base_uri": "https://localhost:8080/"
        },
        "id": "AJVB2HOJG6nc",
        "outputId": "cd24262f-2357-47c1-87db-43e040ec0fea"
      },
      "execution_count": 251,
      "outputs": [
        {
          "output_type": "stream",
          "name": "stdout",
          "text": [
            "mse: 15.524816766058915\n",
            "rmse: 3.940154408910762\n"
          ]
        }
      ]
    },
    {
      "cell_type": "code",
      "source": [
        "# テストデータでの決定係数を表示する\n",
        "print('score:', model.score(X_test, y_test))"
      ],
      "metadata": {
        "colab": {
          "base_uri": "https://localhost:8080/"
        },
        "id": "WVX9C_hMHIx1",
        "outputId": "86d95ae9-2141-40f9-a008-b99e3aac68c8"
      },
      "execution_count": 252,
      "outputs": [
        {
          "output_type": "stream",
          "name": "stdout",
          "text": [
            "score: 0.7730059497272611\n"
          ]
        }
      ]
    }
  ]
}