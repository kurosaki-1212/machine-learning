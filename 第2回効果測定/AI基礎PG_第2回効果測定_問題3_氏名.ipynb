{
  "nbformat": 4,
  "nbformat_minor": 0,
  "metadata": {
    "colab": {
      "name": "AI基礎PG_第2回効果測定_問題3_氏名.ipynb",
      "provenance": [],
      "collapsed_sections": []
    },
    "kernelspec": {
      "name": "python3",
      "display_name": "Python 3"
    },
    "language_info": {
      "name": "python"
    }
  },
  "cells": [
    {
      "cell_type": "code",
      "execution_count": null,
      "metadata": {
        "id": "EVKbY4q7uJ2_"
      },
      "outputs": [],
      "source": [
        ""
      ]
    }
  ]
}