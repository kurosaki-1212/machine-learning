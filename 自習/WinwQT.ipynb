{
  "nbformat": 4,
  "nbformat_minor": 0,
  "metadata": {
    "colab": {
      "name": "0_38808295.ipynb",
      "provenance": [],
      "collapsed_sections": []
    },
    "kernelspec": {
      "name": "python3",
      "display_name": "Python 3"
    },
    "language_info": {
      "name": "python"
    }
  },
  "cells": [
    {
      "cell_type": "code",
      "execution_count": 59,
      "metadata": {
        "id": "osHFFZkna59n"
      },
      "outputs": [],
      "source": [
        "#pandasをインポート\n",
        "import pandas as pd"
      ]
    },
    {
      "cell_type": "code",
      "source": [
        "#csvファイルを読み込む\n",
        "df = pd.read_csv('WineQT.csv')"
      ],
      "metadata": {
        "id": "ydgd7TkJa_gy"
      },
      "execution_count": 60,
      "outputs": []
    },
    {
      "cell_type": "code",
      "source": [
        "#欠損値の確認\n",
        "df.isnull().any(axis=0)"
      ],
      "metadata": {
        "colab": {
          "base_uri": "https://localhost:8080/"
        },
        "id": "vJ8PhKJsbSE0",
        "outputId": "4919fcfb-0585-484e-ebb6-032f5770af3a"
      },
      "execution_count": 61,
      "outputs": [
        {
          "output_type": "execute_result",
          "data": {
            "text/plain": [
              "fixed acidity           False\n",
              "volatile acidity        False\n",
              "citric acid             False\n",
              "residual sugar          False\n",
              "chlorides               False\n",
              "free sulfur dioxide     False\n",
              "total sulfur dioxide    False\n",
              "density                 False\n",
              "pH                      False\n",
              "sulphates               False\n",
              "alcohol                 False\n",
              "quality                 False\n",
              "Id                      False\n",
              "dtype: bool"
            ]
          },
          "metadata": {},
          "execution_count": 61
        }
      ]
    },
    {
      "cell_type": "code",
      "source": [
        "\n",
        "df.head(9999)"
      ],
      "metadata": {
        "colab": {
          "base_uri": "https://localhost:8080/",
          "height": 484
        },
        "id": "72d-Cb4KbMv1",
        "outputId": "49d7cd54-08d2-493a-da81-b71cdc621d0b"
      },
      "execution_count": 62,
      "outputs": [
        {
          "output_type": "execute_result",
          "data": {
            "text/html": [
              "\n",
              "  <div id=\"df-6bf82c4d-64a0-4f38-93dd-34113010db4a\">\n",
              "    <div class=\"colab-df-container\">\n",
              "      <div>\n",
              "<style scoped>\n",
              "    .dataframe tbody tr th:only-of-type {\n",
              "        vertical-align: middle;\n",
              "    }\n",
              "\n",
              "    .dataframe tbody tr th {\n",
              "        vertical-align: top;\n",
              "    }\n",
              "\n",
              "    .dataframe thead th {\n",
              "        text-align: right;\n",
              "    }\n",
              "</style>\n",
              "<table border=\"1\" class=\"dataframe\">\n",
              "  <thead>\n",
              "    <tr style=\"text-align: right;\">\n",
              "      <th></th>\n",
              "      <th>fixed acidity</th>\n",
              "      <th>volatile acidity</th>\n",
              "      <th>citric acid</th>\n",
              "      <th>residual sugar</th>\n",
              "      <th>chlorides</th>\n",
              "      <th>free sulfur dioxide</th>\n",
              "      <th>total sulfur dioxide</th>\n",
              "      <th>density</th>\n",
              "      <th>pH</th>\n",
              "      <th>sulphates</th>\n",
              "      <th>alcohol</th>\n",
              "      <th>quality</th>\n",
              "      <th>Id</th>\n",
              "    </tr>\n",
              "  </thead>\n",
              "  <tbody>\n",
              "    <tr>\n",
              "      <th>0</th>\n",
              "      <td>7.4</td>\n",
              "      <td>0.700</td>\n",
              "      <td>0.00</td>\n",
              "      <td>1.9</td>\n",
              "      <td>0.076</td>\n",
              "      <td>11.0</td>\n",
              "      <td>34.0</td>\n",
              "      <td>0.99780</td>\n",
              "      <td>3.51</td>\n",
              "      <td>0.56</td>\n",
              "      <td>9.4</td>\n",
              "      <td>5</td>\n",
              "      <td>0</td>\n",
              "    </tr>\n",
              "    <tr>\n",
              "      <th>1</th>\n",
              "      <td>7.8</td>\n",
              "      <td>0.880</td>\n",
              "      <td>0.00</td>\n",
              "      <td>2.6</td>\n",
              "      <td>0.098</td>\n",
              "      <td>25.0</td>\n",
              "      <td>67.0</td>\n",
              "      <td>0.99680</td>\n",
              "      <td>3.20</td>\n",
              "      <td>0.68</td>\n",
              "      <td>9.8</td>\n",
              "      <td>5</td>\n",
              "      <td>1</td>\n",
              "    </tr>\n",
              "    <tr>\n",
              "      <th>2</th>\n",
              "      <td>7.8</td>\n",
              "      <td>0.760</td>\n",
              "      <td>0.04</td>\n",
              "      <td>2.3</td>\n",
              "      <td>0.092</td>\n",
              "      <td>15.0</td>\n",
              "      <td>54.0</td>\n",
              "      <td>0.99700</td>\n",
              "      <td>3.26</td>\n",
              "      <td>0.65</td>\n",
              "      <td>9.8</td>\n",
              "      <td>5</td>\n",
              "      <td>2</td>\n",
              "    </tr>\n",
              "    <tr>\n",
              "      <th>3</th>\n",
              "      <td>11.2</td>\n",
              "      <td>0.280</td>\n",
              "      <td>0.56</td>\n",
              "      <td>1.9</td>\n",
              "      <td>0.075</td>\n",
              "      <td>17.0</td>\n",
              "      <td>60.0</td>\n",
              "      <td>0.99800</td>\n",
              "      <td>3.16</td>\n",
              "      <td>0.58</td>\n",
              "      <td>9.8</td>\n",
              "      <td>6</td>\n",
              "      <td>3</td>\n",
              "    </tr>\n",
              "    <tr>\n",
              "      <th>4</th>\n",
              "      <td>7.4</td>\n",
              "      <td>0.700</td>\n",
              "      <td>0.00</td>\n",
              "      <td>1.9</td>\n",
              "      <td>0.076</td>\n",
              "      <td>11.0</td>\n",
              "      <td>34.0</td>\n",
              "      <td>0.99780</td>\n",
              "      <td>3.51</td>\n",
              "      <td>0.56</td>\n",
              "      <td>9.4</td>\n",
              "      <td>5</td>\n",
              "      <td>4</td>\n",
              "    </tr>\n",
              "    <tr>\n",
              "      <th>...</th>\n",
              "      <td>...</td>\n",
              "      <td>...</td>\n",
              "      <td>...</td>\n",
              "      <td>...</td>\n",
              "      <td>...</td>\n",
              "      <td>...</td>\n",
              "      <td>...</td>\n",
              "      <td>...</td>\n",
              "      <td>...</td>\n",
              "      <td>...</td>\n",
              "      <td>...</td>\n",
              "      <td>...</td>\n",
              "      <td>...</td>\n",
              "    </tr>\n",
              "    <tr>\n",
              "      <th>1138</th>\n",
              "      <td>6.3</td>\n",
              "      <td>0.510</td>\n",
              "      <td>0.13</td>\n",
              "      <td>2.3</td>\n",
              "      <td>0.076</td>\n",
              "      <td>29.0</td>\n",
              "      <td>40.0</td>\n",
              "      <td>0.99574</td>\n",
              "      <td>3.42</td>\n",
              "      <td>0.75</td>\n",
              "      <td>11.0</td>\n",
              "      <td>6</td>\n",
              "      <td>1592</td>\n",
              "    </tr>\n",
              "    <tr>\n",
              "      <th>1139</th>\n",
              "      <td>6.8</td>\n",
              "      <td>0.620</td>\n",
              "      <td>0.08</td>\n",
              "      <td>1.9</td>\n",
              "      <td>0.068</td>\n",
              "      <td>28.0</td>\n",
              "      <td>38.0</td>\n",
              "      <td>0.99651</td>\n",
              "      <td>3.42</td>\n",
              "      <td>0.82</td>\n",
              "      <td>9.5</td>\n",
              "      <td>6</td>\n",
              "      <td>1593</td>\n",
              "    </tr>\n",
              "    <tr>\n",
              "      <th>1140</th>\n",
              "      <td>6.2</td>\n",
              "      <td>0.600</td>\n",
              "      <td>0.08</td>\n",
              "      <td>2.0</td>\n",
              "      <td>0.090</td>\n",
              "      <td>32.0</td>\n",
              "      <td>44.0</td>\n",
              "      <td>0.99490</td>\n",
              "      <td>3.45</td>\n",
              "      <td>0.58</td>\n",
              "      <td>10.5</td>\n",
              "      <td>5</td>\n",
              "      <td>1594</td>\n",
              "    </tr>\n",
              "    <tr>\n",
              "      <th>1141</th>\n",
              "      <td>5.9</td>\n",
              "      <td>0.550</td>\n",
              "      <td>0.10</td>\n",
              "      <td>2.2</td>\n",
              "      <td>0.062</td>\n",
              "      <td>39.0</td>\n",
              "      <td>51.0</td>\n",
              "      <td>0.99512</td>\n",
              "      <td>3.52</td>\n",
              "      <td>0.76</td>\n",
              "      <td>11.2</td>\n",
              "      <td>6</td>\n",
              "      <td>1595</td>\n",
              "    </tr>\n",
              "    <tr>\n",
              "      <th>1142</th>\n",
              "      <td>5.9</td>\n",
              "      <td>0.645</td>\n",
              "      <td>0.12</td>\n",
              "      <td>2.0</td>\n",
              "      <td>0.075</td>\n",
              "      <td>32.0</td>\n",
              "      <td>44.0</td>\n",
              "      <td>0.99547</td>\n",
              "      <td>3.57</td>\n",
              "      <td>0.71</td>\n",
              "      <td>10.2</td>\n",
              "      <td>5</td>\n",
              "      <td>1597</td>\n",
              "    </tr>\n",
              "  </tbody>\n",
              "</table>\n",
              "<p>1143 rows × 13 columns</p>\n",
              "</div>\n",
              "      <button class=\"colab-df-convert\" onclick=\"convertToInteractive('df-6bf82c4d-64a0-4f38-93dd-34113010db4a')\"\n",
              "              title=\"Convert this dataframe to an interactive table.\"\n",
              "              style=\"display:none;\">\n",
              "        \n",
              "  <svg xmlns=\"http://www.w3.org/2000/svg\" height=\"24px\"viewBox=\"0 0 24 24\"\n",
              "       width=\"24px\">\n",
              "    <path d=\"M0 0h24v24H0V0z\" fill=\"none\"/>\n",
              "    <path d=\"M18.56 5.44l.94 2.06.94-2.06 2.06-.94-2.06-.94-.94-2.06-.94 2.06-2.06.94zm-11 1L8.5 8.5l.94-2.06 2.06-.94-2.06-.94L8.5 2.5l-.94 2.06-2.06.94zm10 10l.94 2.06.94-2.06 2.06-.94-2.06-.94-.94-2.06-.94 2.06-2.06.94z\"/><path d=\"M17.41 7.96l-1.37-1.37c-.4-.4-.92-.59-1.43-.59-.52 0-1.04.2-1.43.59L10.3 9.45l-7.72 7.72c-.78.78-.78 2.05 0 2.83L4 21.41c.39.39.9.59 1.41.59.51 0 1.02-.2 1.41-.59l7.78-7.78 2.81-2.81c.8-.78.8-2.07 0-2.86zM5.41 20L4 18.59l7.72-7.72 1.47 1.35L5.41 20z\"/>\n",
              "  </svg>\n",
              "      </button>\n",
              "      \n",
              "  <style>\n",
              "    .colab-df-container {\n",
              "      display:flex;\n",
              "      flex-wrap:wrap;\n",
              "      gap: 12px;\n",
              "    }\n",
              "\n",
              "    .colab-df-convert {\n",
              "      background-color: #E8F0FE;\n",
              "      border: none;\n",
              "      border-radius: 50%;\n",
              "      cursor: pointer;\n",
              "      display: none;\n",
              "      fill: #1967D2;\n",
              "      height: 32px;\n",
              "      padding: 0 0 0 0;\n",
              "      width: 32px;\n",
              "    }\n",
              "\n",
              "    .colab-df-convert:hover {\n",
              "      background-color: #E2EBFA;\n",
              "      box-shadow: 0px 1px 2px rgba(60, 64, 67, 0.3), 0px 1px 3px 1px rgba(60, 64, 67, 0.15);\n",
              "      fill: #174EA6;\n",
              "    }\n",
              "\n",
              "    [theme=dark] .colab-df-convert {\n",
              "      background-color: #3B4455;\n",
              "      fill: #D2E3FC;\n",
              "    }\n",
              "\n",
              "    [theme=dark] .colab-df-convert:hover {\n",
              "      background-color: #434B5C;\n",
              "      box-shadow: 0px 1px 3px 1px rgba(0, 0, 0, 0.15);\n",
              "      filter: drop-shadow(0px 1px 2px rgba(0, 0, 0, 0.3));\n",
              "      fill: #FFFFFF;\n",
              "    }\n",
              "  </style>\n",
              "\n",
              "      <script>\n",
              "        const buttonEl =\n",
              "          document.querySelector('#df-6bf82c4d-64a0-4f38-93dd-34113010db4a button.colab-df-convert');\n",
              "        buttonEl.style.display =\n",
              "          google.colab.kernel.accessAllowed ? 'block' : 'none';\n",
              "\n",
              "        async function convertToInteractive(key) {\n",
              "          const element = document.querySelector('#df-6bf82c4d-64a0-4f38-93dd-34113010db4a');\n",
              "          const dataTable =\n",
              "            await google.colab.kernel.invokeFunction('convertToInteractive',\n",
              "                                                     [key], {});\n",
              "          if (!dataTable) return;\n",
              "\n",
              "          const docLinkHtml = 'Like what you see? Visit the ' +\n",
              "            '<a target=\"_blank\" href=https://colab.research.google.com/notebooks/data_table.ipynb>data table notebook</a>'\n",
              "            + ' to learn more about interactive tables.';\n",
              "          element.innerHTML = '';\n",
              "          dataTable['output_type'] = 'display_data';\n",
              "          await google.colab.output.renderOutput(dataTable, element);\n",
              "          const docLink = document.createElement('div');\n",
              "          docLink.innerHTML = docLinkHtml;\n",
              "          element.appendChild(docLink);\n",
              "        }\n",
              "      </script>\n",
              "    </div>\n",
              "  </div>\n",
              "  "
            ],
            "text/plain": [
              "      fixed acidity  volatile acidity  citric acid  ...  alcohol  quality    Id\n",
              "0               7.4             0.700         0.00  ...      9.4        5     0\n",
              "1               7.8             0.880         0.00  ...      9.8        5     1\n",
              "2               7.8             0.760         0.04  ...      9.8        5     2\n",
              "3              11.2             0.280         0.56  ...      9.8        6     3\n",
              "4               7.4             0.700         0.00  ...      9.4        5     4\n",
              "...             ...               ...          ...  ...      ...      ...   ...\n",
              "1138            6.3             0.510         0.13  ...     11.0        6  1592\n",
              "1139            6.8             0.620         0.08  ...      9.5        6  1593\n",
              "1140            6.2             0.600         0.08  ...     10.5        5  1594\n",
              "1141            5.9             0.550         0.10  ...     11.2        6  1595\n",
              "1142            5.9             0.645         0.12  ...     10.2        5  1597\n",
              "\n",
              "[1143 rows x 13 columns]"
            ]
          },
          "metadata": {},
          "execution_count": 62
        }
      ]
    },
    {
      "cell_type": "code",
      "source": [
        "%matplotlib inline\n",
        "df.plot(kind='scatter',x='quality',y='alcohol')"
      ],
      "metadata": {
        "colab": {
          "base_uri": "https://localhost:8080/",
          "height": 297
        },
        "id": "a1212GBzcBsA",
        "outputId": "2ad0c49d-5318-471c-f0d4-1e933449a660"
      },
      "execution_count": 63,
      "outputs": [
        {
          "output_type": "execute_result",
          "data": {
            "text/plain": [
              "<matplotlib.axes._subplots.AxesSubplot at 0x7fcd7ee5c110>"
            ]
          },
          "metadata": {},
          "execution_count": 63
        },
        {
          "output_type": "display_data",
          "data": {
            "image/png": "[encoded data removed]",
            "text/plain": [
              "<Figure size 432x288 with 1 Axes>"
            ]
          },
          "metadata": {
            "needs_background": "light"
          }
        }
      ]
    },
    {
      "cell_type": "code",
      "source": [
        "clear0 = df[(df['quality'] == 3)&(df['citric acid'] > 0.4)].index\n",
        "clear1 = df[(df['citric acid'] > 0.8) & (df['quality'] == 4)].index\n",
        "clear2 = df[(df['citric acid'] < 0.1) & (df['quality'] == 8)].index"
      ],
      "metadata": {
        "id": "WBGrTvH0e4Oq"
      },
      "execution_count": 64,
      "outputs": []
    },
    {
      "cell_type": "code",
      "source": [
        "df2 = df.drop(clear0,axis=0)\n",
        "df2 = df2.drop(clear1,axis=0)\n",
        "df2 = df2.drop(clear2,axis=0)"
      ],
      "metadata": {
        "id": "RR65wxpYmJnJ"
      },
      "execution_count": 65,
      "outputs": []
    },
    {
      "cell_type": "code",
      "source": [
        "clear3 = df[(df['volatile acidity'] > 1.4) & (df['quality'] == 3)].index"
      ],
      "metadata": {
        "id": "KEmlfhZji2Dz"
      },
      "execution_count": 66,
      "outputs": []
    },
    {
      "cell_type": "code",
      "source": [
        "df2 = df2.drop(clear3,axis=0)"
      ],
      "metadata": {
        "id": "xvGm14m-mOPp"
      },
      "execution_count": 67,
      "outputs": []
    },
    {
      "cell_type": "code",
      "source": [
        "clear4 = df[(df['residual sugar'] > 5) & (df['quality'] == 3)].index\n",
        "clear5 = df[(df['residual sugar'] > 12) & (df['quality'] == 5)].index\n",
        "clear6 = df[(df['residual sugar'] > 10) & (df['quality'] == 6)].index"
      ],
      "metadata": {
        "id": "DQ1YnMGWjz1J"
      },
      "execution_count": 68,
      "outputs": []
    },
    {
      "cell_type": "code",
      "source": [
        "df2 = df2.drop(clear4,axis=0)\n",
        "df2 = df2.drop(clear5,axis=0)\n",
        "df2 = df2.drop(clear6,axis=0)"
      ],
      "metadata": {
        "id": "8dYgMcoamQ29"
      },
      "execution_count": 69,
      "outputs": []
    },
    {
      "cell_type": "code",
      "source": [
        "clear7 = df[(df['chlorides'] > 0.25) & (df['quality'] == 5)].index\n",
        "clear8 = df[(df['chlorides'] > 0.3) & (df['quality'] == 6)].index\n",
        "clear9 = df[(df['chlorides'] > 0.3) & (df['quality'] == 7)].index\n",
        "df2 = df2.drop(clear7,axis=0)\n",
        "df2 = df2.drop(clear8,axis=0)\n",
        "df2 = df2.drop(clear9,axis=0)"
      ],
      "metadata": {
        "id": "ONN80z4LpNqE"
      },
      "execution_count": 70,
      "outputs": []
    },
    {
      "cell_type": "code",
      "source": [
        "clear10 = df[(df['free sulfur dioxide'] > 60) & (df['quality'] == 5)].index\n",
        "clear11 = df[(df['free sulfur dioxide'] > 40) & (df['quality'] == 8)].index\n",
        "df2 = df2.drop(clear10,axis=0)\n",
        "df2 = df2.drop(clear11,axis=0)"
      ],
      "metadata": {
        "id": "eHdFnb6zqZwP"
      },
      "execution_count": 71,
      "outputs": []
    },
    {
      "cell_type": "code",
      "source": [
        "clear12 = df[(df['total sulfur dioxide'] > 250) & (df['quality'] == 7)].index\n",
        "df2 = df2.drop(clear12,axis=0)"
      ],
      "metadata": {
        "id": "YSiGdPY3sHPl"
      },
      "execution_count": 72,
      "outputs": []
    },
    {
      "cell_type": "code",
      "source": [
        "clear13 = df[(df['pH'] > 3.6) & (df['quality'] == 8)].index\n",
        "df2 = df2.drop(clear13,axis=0)"
      ],
      "metadata": {
        "id": "Mev4Itvis38i"
      },
      "execution_count": 73,
      "outputs": []
    },
    {
      "cell_type": "code",
      "source": [
        "clear14 = df[(df['alcohol'] > 14) & (df['quality'] == 5)].index\n",
        "df2 = df2.drop(clear14,axis=0)"
      ],
      "metadata": {
        "id": "K1R9Ci6QtsZ6"
      },
      "execution_count": 74,
      "outputs": []
    },
    {
      "cell_type": "code",
      "source": [
        "df2.plot(kind='scatter',x='quality',y='fixed acidity')\n",
        "df2.plot(kind='scatter',x='quality',y='citric acid')\n",
        "df2.plot(kind='scatter',x='quality',y='volatile acidity')\n",
        "df2.plot(kind='scatter',x='quality',y='residual sugar')\n",
        "df2.plot(kind='scatter',x='quality',y='chlorides')\n",
        "df2.plot(kind='scatter',x='quality',y='free sulfur dioxide')\n",
        "df2.plot(kind='scatter',x='quality',y='total sulfur dioxide')\n",
        "df2.plot(kind='scatter',x='quality',y='density')\n",
        "df2.plot(kind='scatter',x='quality',y='pH')\n",
        "df2.plot(kind='scatter',x='quality',y='sulphates')\n",
        "df2.plot(kind='scatter',x='quality',y='alcohol')"
      ],
      "metadata": {
        "colab": {
          "base_uri": "https://localhost:8080/",
          "height": 1000
        },
        "id": "4CwfnVx1jeiF",
        "outputId": "4a1b11f0-8ce9-4c87-d5c1-345bb422f020"
      },
      "execution_count": 75,
      "outputs": [
        {
          "output_type": "execute_result",
          "data": {
            "text/plain": [
              "<matplotlib.axes._subplots.AxesSubplot at 0x7fcd7e92da10>"
            ]
          },
          "metadata": {},
          "execution_count": 75
        },
        {
          "output_type": "display_data",
          "data": {
            "image/png": "[encoded data removed]",
            "text/plain": [
              "<Figure size 432x288 with 1 Axes>"
            ]
          },
          "metadata": {
            "needs_background": "light"
          }
        },
        {
          "output_type": "display_data",
          "data": {
            "image/png": "[encoded data removed]",
            "text/plain": [
              "<Figure size 432x288 with 1 Axes>"
            ]
          },
          "metadata": {
            "needs_background": "light"
          }
        },
        {
          "output_type": "display_data",
          "data": {
            "image/png": "[encoded data removed]",
            "text/plain": [
              "<Figure size 432x288 with 1 Axes>"
            ]
          },
          "metadata": {
            "needs_background": "light"
          }
        },
        {
          "output_type": "display_data",
          "data": {
            "image/png": "[encoded data removed]",
            "text/plain": [
              "<Figure size 432x288 with 1 Axes>"
            ]
          },
          "metadata": {
            "needs_background": "light"
          }
        },
        {
          "output_type": "display_data",
          "data": {
            "image/png": "[encoded data removed]",
            "text/plain": [
              "<Figure size 432x288 with 1 Axes>"
            ]
          },
          "metadata": {
            "needs_background": "light"
          }
        },
        {
          "output_type": "display_data",
          "data": {
            "image/png": "[encoded data removed]",
            "text/plain": [
              "<Figure size 432x288 with 1 Axes>"
            ]
          },
          "metadata": {
            "needs_background": "light"
          }
        },
        {
          "output_type": "display_data",
          "data": {
            "image/png": "[encoded data removed]",
            "text/plain": [
              "<Figure size 432x288 with 1 Axes>"
            ]
          },
          "metadata": {
            "needs_background": "light"
          }
        },
        {
          "output_type": "display_data",
          "data": {
            "image/png": "[encoded data removed]",
            "text/plain": [
              "<Figure size 432x288 with 1 Axes>"
            ]
          },
          "metadata": {
            "needs_background": "light"
          }
        },
        {
          "output_type": "display_data",
          "data": {
            "image/png": "[encoded data removed]",
            "text/plain": [
              "<Figure size 432x288 with 1 Axes>"
            ]
          },
          "metadata": {
            "needs_background": "light"
          }
        },
        {
          "output_type": "display_data",
          "data": {
            "image/png": "[encoded data removed]",
            "text/plain": [
              "<Figure size 432x288 with 1 Axes>"
            ]
          },
          "metadata": {
            "needs_background": "light"
          }
        },
        {
          "output_type": "display_data",
          "data": {
            "image/png": "[encoded data removed]",
            "text/plain": [
              "<Figure size 432x288 with 1 Axes>"
            ]
          },
          "metadata": {
            "needs_background": "light"
          }
        }
      ]
    },
    {
      "cell_type": "code",
      "source": [
        "#qualityとそれ以外の各列の相関係数を、絶対値の降順に表示\n",
        "train_cor = df2.corr()['quality']\n",
        "\n",
        "# train_corの内容を表示する\n",
        "train_cor\n",
        "# 上記で取り出したtrain_cor(シリーズ)の各要素にabs関数を適用し、結果を変数abs_corに代入する\n",
        "abs_cor = train_cor.map(abs)\n",
        "\n",
        "# abs_corを降順に並べ替える\n",
        "abs_cor.sort_values(ascending = False)"
      ],
      "metadata": {
        "colab": {
          "base_uri": "https://localhost:8080/"
        },
        "id": "3H06LwLjvRwe",
        "outputId": "12fa407c-4b87-4a4a-dfa7-21c0e285c173"
      },
      "execution_count": 76,
      "outputs": [
        {
          "output_type": "execute_result",
          "data": {
            "text/plain": [
              "quality                 1.000000\n",
              "alcohol                 0.482559\n",
              "volatile acidity        0.402144\n",
              "sulphates               0.319232\n",
              "citric acid             0.273070\n",
              "total sulfur dioxide    0.230592\n",
              "fixed acidity           0.148585\n",
              "density                 0.147477\n",
              "chlorides               0.116911\n",
              "Id                      0.078597\n",
              "free sulfur dioxide     0.077933\n",
              "pH                      0.073937\n",
              "residual sugar          0.051362\n",
              "Name: quality, dtype: float64"
            ]
          },
          "metadata": {},
          "execution_count": 76
        }
      ]
    },
    {
      "cell_type": "code",
      "source": [
        "#特徴量と正解データを取り出して先頭５行を表示\n",
        "x = df2.drop([\"quality\",\"residual sugar\",\"pH\",\"free sulfur dioxide\"],axis = 1)\n",
        "t = df2[['quality']]\n",
        "print(x.head())\n",
        "print(t.head())"
      ],
      "metadata": {
        "colab": {
          "base_uri": "https://localhost:8080/"
        },
        "id": "pPV5nLKSvVFV",
        "outputId": "6be018d0-193a-4490-d6b6-fed375656afe"
      },
      "execution_count": 77,
      "outputs": [
        {
          "output_type": "stream",
          "name": "stdout",
          "text": [
            "   fixed acidity  volatile acidity  citric acid  ...  sulphates  alcohol  Id\n",
            "0            7.4              0.70         0.00  ...       0.56      9.4   0\n",
            "1            7.8              0.88         0.00  ...       0.68      9.8   1\n",
            "2            7.8              0.76         0.04  ...       0.65      9.8   2\n",
            "3           11.2              0.28         0.56  ...       0.58      9.8   3\n",
            "4            7.4              0.70         0.00  ...       0.56      9.4   4\n",
            "\n",
            "[5 rows x 9 columns]\n",
            "   quality\n",
            "0        5\n",
            "1        5\n",
            "2        5\n",
            "3        6\n",
            "4        5\n"
          ]
        }
      ]
    },
    {
      "cell_type": "code",
      "source": [
        "from sklearn.linear_model import LinearRegression\n",
        "from sklearn.model_selection import train_test_split\n",
        "from sklearn.preprocessing import StandardScaler\n",
        "x_train, x_val, y_train, y_val = train_test_split(x, t, test_size = 0.2, random_state = 0)\n",
        "print(\"===訓練データ特徴力\")\n",
        "print(len(x_train),\"行\")"
      ],
      "metadata": {
        "colab": {
          "base_uri": "https://localhost:8080/"
        },
        "id": "zIHc3VwevWld",
        "outputId": "db6992ab-ee66-44e1-d4a6-0716962f90a3"
      },
      "execution_count": 78,
      "outputs": [
        {
          "output_type": "stream",
          "name": "stdout",
          "text": [
            "===訓練データ特徴力\n",
            "885 行\n"
          ]
        }
      ]
    },
    {
      "cell_type": "code",
      "source": [
        "def learn(x, t):\n",
        "    x_train, x_val, y_train, y_val = train_test_split(x, t, test_size = 0.2, random_state = 0)\n",
        "    # 訓練データを標準化\n",
        "    sc_model_x = StandardScaler()\n",
        "    sc_model_y = StandardScaler()\n",
        "    sc_model_x.fit(x_train)\n",
        "    sc_x_train = sc_model_x.transform(x_train)\n",
        "    sc_model_y.fit(y_train)\n",
        "    sc_y_train = sc_model_y.transform(y_train)\n",
        "\n",
        "    # 学習\n",
        "    model = LinearRegression()\n",
        "    model.fit(sc_x_train, sc_y_train)\n",
        "\n",
        "    #検証データを標準化\n",
        "    sc_x_val = sc_model_x.transform(x_val)\n",
        "    sc_y_val = sc_model_y.transform(y_val)\n",
        "\n",
        "    # 訓練データと検証データの決定係数計算\n",
        "    train_score = model.score(sc_x_train, sc_y_train)\n",
        "    val_score = model.score(sc_x_val, sc_y_val)\n",
        "    return train_score, val_score"
      ],
      "metadata": {
        "id": "yrMJ7neovfja"
      },
      "execution_count": 44,
      "outputs": []
    },
    {
      "cell_type": "code",
      "source": [
        "# # RM列 × LSTAT列 の計算結果を、新しい列'RM * LSTAT'として、特徴量xに追加する\n",
        "# x['RM * LSTAT'] = x['RM'] * x['LSTAT']\n",
        "\n",
        "# 新しい特徴量での性能を確認(learn関数を特徴量x、正解データtで呼び出す)\n",
        "s1, s2 = learn(x, t)\n",
        "\n",
        "# 結果を表示する\n",
        "print('訓練データでの決定係数:',s1)\n",
        "print('検証データでの決定係数:',s2)"
      ],
      "metadata": {
        "colab": {
          "base_uri": "https://localhost:8080/"
        },
        "id": "98mdfaLCvkgX",
        "outputId": "e02afbbd-2578-4bd2-895f-81e1344831f4"
      },
      "execution_count": 45,
      "outputs": [
        {
          "output_type": "stream",
          "name": "stdout",
          "text": [
            "訓練データでの決定係数: 0.38341802185120877\n",
            "検証データでの決定係数: 0.33618455343546516\n"
          ]
        }
      ]
    },
    {
      "cell_type": "code",
      "source": [
        "# RM列を2乗したシリーズを、新しい列'RM2'として、特徴量xに追加する\n",
        "x['alcohol2'] = x['alcohol'] ** 10\n",
        "\n",
        "# 新しい特徴量での性能を確認(learn関数を特徴量x、正解データtで呼び出す)\n",
        "s1, s2 = learn(x, t)\n",
        "\n",
        "# 結果を表示する\n",
        "print('訓練データでの決定係数:',s1)\n",
        "print('検証データでの決定係数:',s2)"
      ],
      "metadata": {
        "colab": {
          "base_uri": "https://localhost:8080/"
        },
        "id": "w6BYDjLjxICZ",
        "outputId": "e3e72a4c-0418-4113-faaa-d965aed0a3b5"
      },
      "execution_count": 53,
      "outputs": [
        {
          "output_type": "stream",
          "name": "stdout",
          "text": [
            "訓練データでの決定係数: 0.3892855744732011\n",
            "検証データでの決定係数: 0.34480359656938897\n"
          ]
        }
      ]
    },
    {
      "cell_type": "code",
      "source": [
        "# RM列 × LSTAT列 の計算結果を、新しい列'RM * LSTAT'として、特徴量xに追加する\n",
        "x['alcohol * volatile acidity'] = x['alcohol'] * x['volatile acidity']\n",
        "\n",
        "# 新しい特徴量での性能を確認(learn関数を特徴量x、正解データtで呼び出す)\n",
        "s1, s2 = learn(x, t)\n",
        "\n",
        "# 結果を表示する\n",
        "print('訓練データでの決定係数:',s1)\n",
        "print('検証データでの決定係数:',s2)"
      ],
      "metadata": {
        "colab": {
          "base_uri": "https://localhost:8080/"
        },
        "id": "dD4c0pejxMI2",
        "outputId": "497c549b-bf5e-4295-9c2f-d30a3b1c37e9"
      },
      "execution_count": 51,
      "outputs": [
        {
          "output_type": "stream",
          "name": "stdout",
          "text": [
            "訓練データでの決定係数: 0.3887720529684249\n",
            "検証データでの決定係数: 0.3356745939032372\n"
          ]
        }
      ]
    },
    {
      "cell_type": "code",
      "source": [
        ""
      ],
      "metadata": {
        "id": "KN7yAkloxw-a"
      },
      "execution_count": null,
      "outputs": []
    },
    {
      "cell_type": "code",
      "source": [
        "# 変数についての補足\n",
        "# X_train ... 特徴量（訓練データ）\n",
        "# y_train ... 正解データ（訓練データ）\n",
        "# X_test ... 特徴量（テストデータ）\n",
        "# y_test ... 正解データ（テストデータ）\n",
        "\n",
        "# アダブースト、ベースとするモデルのライブラリのインポート\n",
        "from sklearn.ensemble import AdaBoostClassifier\n",
        "from sklearn.tree import DecisionTreeClassifier\n",
        "\n",
        "# ベースとするモデルの生成(今回は深さ5の決定木)\n",
        "base_model = DecisionTreeClassifier(random_state = 0, max_depth = 5)\n",
        "\n",
        "# アダブーストのオブジェクトを生成(ベースとするモデルを500個使う)\n",
        "model = AdaBoostClassifier(n_estimators = 500, random_state = 0, base_estimator = base_model)\n",
        "\n",
        "# 学習\n",
        "model.fit(x_train, y_train)\n",
        "\n",
        "# 正解率表示\n",
        "print( model.score(x_train, y_train) )\n",
        "print( model.score(x_val, y_val) )"
      ],
      "metadata": {
        "colab": {
          "base_uri": "https://localhost:8080/"
        },
        "id": "fcuvOLGDyhIj",
        "outputId": "04e4d56e-d99c-4738-b3a0-3c43286c8553"
      },
      "execution_count": 79,
      "outputs": [
        {
          "output_type": "stream",
          "name": "stderr",
          "text": [
            "/usr/local/lib/python3.7/dist-packages/sklearn/utils/validation.py:993: DataConversionWarning: A column-vector y was passed when a 1d array was expected. Please change the shape of y to (n_samples, ), for example using ravel().\n",
            "  y = column_or_1d(y, warn=True)\n"
          ]
        },
        {
          "output_type": "stream",
          "name": "stdout",
          "text": [
            "0.984180790960452\n",
            "0.6216216216216216\n"
          ]
        }
      ]
    },
    {
      "cell_type": "code",
      "source": [
        ""
      ],
      "metadata": {
        "id": "_MdnD0YJy5ai"
      },
      "execution_count": null,
      "outputs": []
    }
  ]
}