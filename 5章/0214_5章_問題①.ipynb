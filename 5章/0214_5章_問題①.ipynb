{
  "nbformat": 4,
  "nbformat_minor": 5,
  "metadata": {
    "kernelspec": {
      "display_name": "Python 3 (ipykernel)",
      "language": "python",
      "name": "python3"
    },
    "language_info": {
      "codemirror_mode": {
        "name": "ipython",
        "version": 3
      },
      "file_extension": ".py",
      "mimetype": "text/x-python",
      "name": "python",
      "nbconvert_exporter": "python",
      "pygments_lexer": "ipython3",
      "version": "3.8.11"
    },
    "colab": {
      "name": "21年度_5章_問題①_解答付き.ipynb",
      "provenance": [],
      "collapsed_sections": []
    }
  },
  "cells": [
    {
      "cell_type": "markdown",
      "metadata": {
        "id": "80473cf7"
      },
      "source": [
        "# 第5章 分類１：アヤメの判別"
      ],
      "id": "80473cf7"
    },
    {
      "cell_type": "markdown",
      "metadata": {
        "id": "61f4e866"
      },
      "source": [
        "アヤメの種類を判別する決定木モデルを構築しましょう。\n",
        "\n",
        "読み込むCSVファイル  「iris2.csv」"
      ],
      "id": "61f4e866"
    },
    {
      "cell_type": "markdown",
      "metadata": {
        "id": "JHaFHkrpuXDY"
      },
      "source": [
        "### データを読み込む"
      ],
      "id": "JHaFHkrpuXDY"
    },
    {
      "cell_type": "markdown",
      "metadata": {
        "id": "zrxfFsDr5emA"
      },
      "source": [
        "**問1**  \n",
        "「iris2.csv」を読み込み、先頭の10行を表示してください"
      ],
      "id": "zrxfFsDr5emA"
    },
    {
      "cell_type": "code",
      "metadata": {
        "id": "7eccec8d",
        "colab": {
          "base_uri": "https://localhost:8080/",
          "height": 363
        },
        "outputId": "007cec45-a1c0-44fe-dace-04bf46778641"
      },
      "source": [
        "# pandasのインポート\n",
        "import pandas as pd\n",
        "\n",
        "# CSVファイルを読み込む\n",
        "df = pd.read_csv('iris2.csv')\n",
        "\n",
        "# 先頭10行を表示する\n",
        "df.head(10)"
      ],
      "id": "7eccec8d",
      "execution_count": 25,
      "outputs": [
        {
          "output_type": "execute_result",
          "data": {
            "text/html": [
              "\n",
              "  <div id=\"df-66cc5eb4-3893-4c97-bdcc-124e2852105b\">\n",
              "    <div class=\"colab-df-container\">\n",
              "      <div>\n",
              "<style scoped>\n",
              "    .dataframe tbody tr th:only-of-type {\n",
              "        vertical-align: middle;\n",
              "    }\n",
              "\n",
              "    .dataframe tbody tr th {\n",
              "        vertical-align: top;\n",
              "    }\n",
              "\n",
              "    .dataframe thead th {\n",
              "        text-align: right;\n",
              "    }\n",
              "</style>\n",
              "<table border=\"1\" class=\"dataframe\">\n",
              "  <thead>\n",
              "    <tr style=\"text-align: right;\">\n",
              "      <th></th>\n",
              "      <th>がく片長さ</th>\n",
              "      <th>がく片幅</th>\n",
              "      <th>花弁長さ</th>\n",
              "      <th>花弁幅</th>\n",
              "      <th>種類</th>\n",
              "    </tr>\n",
              "  </thead>\n",
              "  <tbody>\n",
              "    <tr>\n",
              "      <th>0</th>\n",
              "      <td>0.22</td>\n",
              "      <td>0.63</td>\n",
              "      <td>0.08</td>\n",
              "      <td>0.04</td>\n",
              "      <td>Iris-setosa</td>\n",
              "    </tr>\n",
              "    <tr>\n",
              "      <th>1</th>\n",
              "      <td>0.17</td>\n",
              "      <td>0.42</td>\n",
              "      <td>0.35</td>\n",
              "      <td>0.04</td>\n",
              "      <td>Iris-setosa</td>\n",
              "    </tr>\n",
              "    <tr>\n",
              "      <th>2</th>\n",
              "      <td>0.11</td>\n",
              "      <td>0.50</td>\n",
              "      <td>0.13</td>\n",
              "      <td>0.04</td>\n",
              "      <td>Iris-setosa</td>\n",
              "    </tr>\n",
              "    <tr>\n",
              "      <th>3</th>\n",
              "      <td>0.08</td>\n",
              "      <td>0.46</td>\n",
              "      <td>0.26</td>\n",
              "      <td>0.04</td>\n",
              "      <td>Iris-setosa</td>\n",
              "    </tr>\n",
              "    <tr>\n",
              "      <th>4</th>\n",
              "      <td>0.19</td>\n",
              "      <td>0.67</td>\n",
              "      <td>0.44</td>\n",
              "      <td>0.04</td>\n",
              "      <td>Iris-setosa</td>\n",
              "    </tr>\n",
              "    <tr>\n",
              "      <th>5</th>\n",
              "      <td>0.31</td>\n",
              "      <td>0.79</td>\n",
              "      <td>0.04</td>\n",
              "      <td>0.13</td>\n",
              "      <td>Iris-setosa</td>\n",
              "    </tr>\n",
              "    <tr>\n",
              "      <th>6</th>\n",
              "      <td>NaN</td>\n",
              "      <td>NaN</td>\n",
              "      <td>NaN</td>\n",
              "      <td>NaN</td>\n",
              "      <td>NaN</td>\n",
              "    </tr>\n",
              "    <tr>\n",
              "      <th>7</th>\n",
              "      <td>0.19</td>\n",
              "      <td>0.58</td>\n",
              "      <td>0.47</td>\n",
              "      <td>0.04</td>\n",
              "      <td>Iris-setosa</td>\n",
              "    </tr>\n",
              "    <tr>\n",
              "      <th>8</th>\n",
              "      <td>0.03</td>\n",
              "      <td>0.38</td>\n",
              "      <td>0.02</td>\n",
              "      <td>0.04</td>\n",
              "      <td>Iris-setosa</td>\n",
              "    </tr>\n",
              "    <tr>\n",
              "      <th>9</th>\n",
              "      <td>0.17</td>\n",
              "      <td>0.46</td>\n",
              "      <td>0.45</td>\n",
              "      <td>0.03</td>\n",
              "      <td>Iris-setosa</td>\n",
              "    </tr>\n",
              "  </tbody>\n",
              "</table>\n",
              "</div>\n",
              "      <button class=\"colab-df-convert\" onclick=\"convertToInteractive('df-66cc5eb4-3893-4c97-bdcc-124e2852105b')\"\n",
              "              title=\"Convert this dataframe to an interactive table.\"\n",
              "              style=\"display:none;\">\n",
              "        \n",
              "  <svg xmlns=\"http://www.w3.org/2000/svg\" height=\"24px\"viewBox=\"0 0 24 24\"\n",
              "       width=\"24px\">\n",
              "    <path d=\"M0 0h24v24H0V0z\" fill=\"none\"/>\n",
              "    <path d=\"M18.56 5.44l.94 2.06.94-2.06 2.06-.94-2.06-.94-.94-2.06-.94 2.06-2.06.94zm-11 1L8.5 8.5l.94-2.06 2.06-.94-2.06-.94L8.5 2.5l-.94 2.06-2.06.94zm10 10l.94 2.06.94-2.06 2.06-.94-2.06-.94-.94-2.06-.94 2.06-2.06.94z\"/><path d=\"M17.41 7.96l-1.37-1.37c-.4-.4-.92-.59-1.43-.59-.52 0-1.04.2-1.43.59L10.3 9.45l-7.72 7.72c-.78.78-.78 2.05 0 2.83L4 21.41c.39.39.9.59 1.41.59.51 0 1.02-.2 1.41-.59l7.78-7.78 2.81-2.81c.8-.78.8-2.07 0-2.86zM5.41 20L4 18.59l7.72-7.72 1.47 1.35L5.41 20z\"/>\n",
              "  </svg>\n",
              "      </button>\n",
              "      \n",
              "  <style>\n",
              "    .colab-df-container {\n",
              "      display:flex;\n",
              "      flex-wrap:wrap;\n",
              "      gap: 12px;\n",
              "    }\n",
              "\n",
              "    .colab-df-convert {\n",
              "      background-color: #E8F0FE;\n",
              "      border: none;\n",
              "      border-radius: 50%;\n",
              "      cursor: pointer;\n",
              "      display: none;\n",
              "      fill: #1967D2;\n",
              "      height: 32px;\n",
              "      padding: 0 0 0 0;\n",
              "      width: 32px;\n",
              "    }\n",
              "\n",
              "    .colab-df-convert:hover {\n",
              "      background-color: #E2EBFA;\n",
              "      box-shadow: 0px 1px 2px rgba(60, 64, 67, 0.3), 0px 1px 3px 1px rgba(60, 64, 67, 0.15);\n",
              "      fill: #174EA6;\n",
              "    }\n",
              "\n",
              "    [theme=dark] .colab-df-convert {\n",
              "      background-color: #3B4455;\n",
              "      fill: #D2E3FC;\n",
              "    }\n",
              "\n",
              "    [theme=dark] .colab-df-convert:hover {\n",
              "      background-color: #434B5C;\n",
              "      box-shadow: 0px 1px 3px 1px rgba(0, 0, 0, 0.15);\n",
              "      filter: drop-shadow(0px 1px 2px rgba(0, 0, 0, 0.3));\n",
              "      fill: #FFFFFF;\n",
              "    }\n",
              "  </style>\n",
              "\n",
              "      <script>\n",
              "        const buttonEl =\n",
              "          document.querySelector('#df-66cc5eb4-3893-4c97-bdcc-124e2852105b button.colab-df-convert');\n",
              "        buttonEl.style.display =\n",
              "          google.colab.kernel.accessAllowed ? 'block' : 'none';\n",
              "\n",
              "        async function convertToInteractive(key) {\n",
              "          const element = document.querySelector('#df-66cc5eb4-3893-4c97-bdcc-124e2852105b');\n",
              "          const dataTable =\n",
              "            await google.colab.kernel.invokeFunction('convertToInteractive',\n",
              "                                                     [key], {});\n",
              "          if (!dataTable) return;\n",
              "\n",
              "          const docLinkHtml = 'Like what you see? Visit the ' +\n",
              "            '<a target=\"_blank\" href=https://colab.research.google.com/notebooks/data_table.ipynb>data table notebook</a>'\n",
              "            + ' to learn more about interactive tables.';\n",
              "          element.innerHTML = '';\n",
              "          dataTable['output_type'] = 'display_data';\n",
              "          await google.colab.output.renderOutput(dataTable, element);\n",
              "          const docLink = document.createElement('div');\n",
              "          docLink.innerHTML = docLinkHtml;\n",
              "          element.appendChild(docLink);\n",
              "        }\n",
              "      </script>\n",
              "    </div>\n",
              "  </div>\n",
              "  "
            ],
            "text/plain": [
              "   がく片長さ  がく片幅  花弁長さ   花弁幅           種類\n",
              "0   0.22  0.63  0.08  0.04  Iris-setosa\n",
              "1   0.17  0.42  0.35  0.04  Iris-setosa\n",
              "2   0.11  0.50  0.13  0.04  Iris-setosa\n",
              "3   0.08  0.46  0.26  0.04  Iris-setosa\n",
              "4   0.19  0.67  0.44  0.04  Iris-setosa\n",
              "5   0.31  0.79  0.04  0.13  Iris-setosa\n",
              "6    NaN   NaN   NaN   NaN          NaN\n",
              "7   0.19  0.58  0.47  0.04  Iris-setosa\n",
              "8   0.03  0.38  0.02  0.04  Iris-setosa\n",
              "9   0.17  0.46  0.45  0.03  Iris-setosa"
            ]
          },
          "metadata": {},
          "execution_count": 25
        }
      ]
    },
    {
      "cell_type": "markdown",
      "metadata": {
        "id": "lBs5p1loni0k"
      },
      "source": [
        "▶実行結果\n",
        "\n",
        "![image.png](data:image/png;base64,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)"
      ],
      "id": "lBs5p1loni0k"
    },
    {
      "cell_type": "markdown",
      "source": [
        "**問2**  \n",
        "読み込んだデータの行数、列数を表示してください"
      ],
      "metadata": {
        "id": "aGoqIlaGsxfx"
      },
      "id": "aGoqIlaGsxfx"
    },
    {
      "cell_type": "code",
      "metadata": {
        "id": "17e6aa82",
        "colab": {
          "base_uri": "https://localhost:8080/"
        },
        "outputId": "1300c237-1c59-4686-9692-e0dfdc75fd73"
      },
      "source": [
        "# データの行数、列数を表示する\n",
        "df.shape"
      ],
      "id": "17e6aa82",
      "execution_count": 26,
      "outputs": [
        {
          "output_type": "execute_result",
          "data": {
            "text/plain": [
              "(150, 5)"
            ]
          },
          "metadata": {},
          "execution_count": 26
        }
      ]
    },
    {
      "cell_type": "markdown",
      "metadata": {
        "id": "axJpKz25nsfH"
      },
      "source": [
        "▶実行結果\n",
        "\n",
        "(150, 5)"
      ],
      "id": "axJpKz25nsfH"
    },
    {
      "cell_type": "markdown",
      "metadata": {
        "id": "_tFKlp5M8aBP"
      },
      "source": [
        "### 「種類」列について調べる"
      ],
      "id": "_tFKlp5M8aBP"
    },
    {
      "cell_type": "markdown",
      "source": [
        "**問3**  \n",
        "読み込んだデータの「種類」列のデータの種類を表示してください"
      ],
      "metadata": {
        "id": "O3Eispu2s_xp"
      },
      "id": "O3Eispu2s_xp"
    },
    {
      "cell_type": "code",
      "metadata": {
        "id": "646aaa39",
        "colab": {
          "base_uri": "https://localhost:8080/"
        },
        "outputId": "ddb72900-86ed-4772-aac1-66e71443a1f2"
      },
      "source": [
        "df['種類'].unique()"
      ],
      "id": "646aaa39",
      "execution_count": 27,
      "outputs": [
        {
          "output_type": "execute_result",
          "data": {
            "text/plain": [
              "array(['Iris-setosa', nan, 'Iris-versicolor', 'Iris-virginica'],\n",
              "      dtype=object)"
            ]
          },
          "metadata": {},
          "execution_count": 27
        }
      ]
    },
    {
      "cell_type": "markdown",
      "metadata": {
        "id": "IQx9z6P1nxnY"
      },
      "source": [
        "▶実行結果\n",
        "\n",
        "array(['Iris-setosa', nan, 'Iris-versicolor', 'Iris-virginica'],\n",
        "      dtype=object)"
      ],
      "id": "IQx9z6P1nxnY"
    },
    {
      "cell_type": "markdown",
      "source": [
        "**問4**  \n",
        "読み込んだデータの「種類」列のデータごとの出現回数を表示してください"
      ],
      "metadata": {
        "id": "9-BM51xGtNUU"
      },
      "id": "9-BM51xGtNUU"
    },
    {
      "cell_type": "code",
      "metadata": {
        "id": "ff1d12dc",
        "colab": {
          "base_uri": "https://localhost:8080/"
        },
        "outputId": "fbcc57b3-0d82-4497-d8ab-e2845a6c58dc"
      },
      "source": [
        "df['種類'].value_counts()"
      ],
      "id": "ff1d12dc",
      "execution_count": 28,
      "outputs": [
        {
          "output_type": "execute_result",
          "data": {
            "text/plain": [
              "Iris-versicolor    50\n",
              "Iris-virginica     50\n",
              "Iris-setosa        49\n",
              "Name: 種類, dtype: int64"
            ]
          },
          "metadata": {},
          "execution_count": 28
        }
      ]
    },
    {
      "cell_type": "markdown",
      "metadata": {
        "id": "N7EqSROJn29r"
      },
      "source": [
        "▶実行結果\n",
        "\n",
        "Iris-versicolor    50  \n",
        "Iris-virginica     50  \n",
        "Iris-setosa        49  \n",
        "Name: 種類, dtype: int64"
      ],
      "id": "N7EqSROJn29r"
    },
    {
      "cell_type": "markdown",
      "metadata": {
        "id": "FT8QWi_59Xk1"
      },
      "source": [
        "### 欠損値を調べる"
      ],
      "id": "FT8QWi_59Xk1"
    },
    {
      "cell_type": "markdown",
      "source": [
        "**問5**  \n",
        "各列の欠損値の有無をTrue/Falseで表示してください"
      ],
      "metadata": {
        "id": "ewrpBH5gtdv4"
      },
      "id": "ewrpBH5gtdv4"
    },
    {
      "cell_type": "code",
      "metadata": {
        "id": "fed7ff4e",
        "colab": {
          "base_uri": "https://localhost:8080/"
        },
        "outputId": "3fb77912-0ba2-4daf-8e97-861dd4aad72a"
      },
      "source": [
        "df.isnull().any(axis=0)"
      ],
      "id": "fed7ff4e",
      "execution_count": 29,
      "outputs": [
        {
          "output_type": "execute_result",
          "data": {
            "text/plain": [
              "がく片長さ    True\n",
              "がく片幅     True\n",
              "花弁長さ     True\n",
              "花弁幅      True\n",
              "種類       True\n",
              "dtype: bool"
            ]
          },
          "metadata": {},
          "execution_count": 29
        }
      ]
    },
    {
      "cell_type": "markdown",
      "metadata": {
        "id": "yhRGwZJEn8Kp"
      },
      "source": [
        "▶実行結果\n",
        "\n",
        "がく片長さ    True  \n",
        "がく片幅     True  \n",
        "花弁長さ     True  \n",
        "花弁幅      True  \n",
        "種類       True  \n",
        "dtype: bool"
      ],
      "id": "yhRGwZJEn8Kp"
    },
    {
      "cell_type": "markdown",
      "source": [
        "**問6**  \n",
        "各列の欠損値の個数を表示してください"
      ],
      "metadata": {
        "id": "CoxuOLrU8wqU"
      },
      "id": "CoxuOLrU8wqU"
    },
    {
      "cell_type": "code",
      "metadata": {
        "id": "f94975ef",
        "colab": {
          "base_uri": "https://localhost:8080/"
        },
        "outputId": "a9737881-d275-4fdb-b8c4-e94a94671557"
      },
      "source": [
        "df.isnull().sum()"
      ],
      "id": "f94975ef",
      "execution_count": 30,
      "outputs": [
        {
          "output_type": "execute_result",
          "data": {
            "text/plain": [
              "がく片長さ    3\n",
              "がく片幅     2\n",
              "花弁長さ     3\n",
              "花弁幅      3\n",
              "種類       1\n",
              "dtype: int64"
            ]
          },
          "metadata": {},
          "execution_count": 30
        }
      ]
    },
    {
      "cell_type": "markdown",
      "metadata": {
        "id": "5INoblKqn8h_"
      },
      "source": [
        "▶実行結果\n",
        "\n",
        "がく片長さ    3  \n",
        "がく片幅     2  \n",
        "花弁長さ     3  \n",
        "花弁幅      3  \n",
        "種類       1  \n",
        "dtype: int64"
      ],
      "id": "5INoblKqn8h_"
    },
    {
      "cell_type": "markdown",
      "metadata": {
        "id": "26RycZdn_zj2"
      },
      "source": [
        "### 欠損値を削除する(行 その1)"
      ],
      "id": "26RycZdn_zj2"
    },
    {
      "cell_type": "markdown",
      "metadata": {
        "id": "_DVMA2YQGH0s"
      },
      "source": [
        "**問7**  \n",
        "dfで**欠損値を含む行**を削除してください。"
      ],
      "id": "_DVMA2YQGH0s"
    },
    {
      "cell_type": "code",
      "metadata": {
        "id": "68c55ae7"
      },
      "source": [
        "# 欠損値を含む行を削除する\n",
        "df_dropna_row_any = df.dropna(how='any', axis=0)"
      ],
      "id": "68c55ae7",
      "execution_count": 31,
      "outputs": []
    },
    {
      "cell_type": "markdown",
      "source": [
        "**問8**  \n",
        "削除後データでは欠損値が削除されて行数が減っていることを確認してください。"
      ],
      "metadata": {
        "id": "1abctqD-dhvm"
      },
      "id": "1abctqD-dhvm"
    },
    {
      "cell_type": "code",
      "source": [
        "# 削除後データの行数、列数を表示し、行が減っていることを確認する\n",
        "df_dropna_row_any.shape"
      ],
      "metadata": {
        "colab": {
          "base_uri": "https://localhost:8080/"
        },
        "id": "oiVHKz2wdTKf",
        "outputId": "035e3c55-6b97-4454-d132-2186e8d29900"
      },
      "id": "oiVHKz2wdTKf",
      "execution_count": 32,
      "outputs": [
        {
          "output_type": "execute_result",
          "data": {
            "text/plain": [
              "(142, 5)"
            ]
          },
          "metadata": {},
          "execution_count": 32
        }
      ]
    },
    {
      "cell_type": "markdown",
      "metadata": {
        "id": "cjznUNHMoB5s"
      },
      "source": [
        "▶実行結果\n",
        "\n",
        "(142, 5)"
      ],
      "id": "cjznUNHMoB5s"
    },
    {
      "cell_type": "markdown",
      "metadata": {
        "id": "PSrS2-Q9Adac"
      },
      "source": [
        "**問9**  \n",
        "削除後データの各列の欠損値の個数を表示し、欠損値が無いことを確認してください"
      ],
      "id": "PSrS2-Q9Adac"
    },
    {
      "cell_type": "code",
      "metadata": {
        "id": "Zvv8t-9I6D5k",
        "colab": {
          "base_uri": "https://localhost:8080/"
        },
        "outputId": "fbf22e9b-6f40-44d2-b5cd-9833ded46d9d"
      },
      "source": [
        "df_dropna_row_any.isnull().sum()"
      ],
      "id": "Zvv8t-9I6D5k",
      "execution_count": 33,
      "outputs": [
        {
          "output_type": "execute_result",
          "data": {
            "text/plain": [
              "がく片長さ    0\n",
              "がく片幅     0\n",
              "花弁長さ     0\n",
              "花弁幅      0\n",
              "種類       0\n",
              "dtype: int64"
            ]
          },
          "metadata": {},
          "execution_count": 33
        }
      ]
    },
    {
      "cell_type": "markdown",
      "metadata": {
        "id": "Rz23OU7XoCdV"
      },
      "source": [
        "▶実行結果\n",
        "\n",
        "がく片長さ    0  \n",
        "がく片幅     0  \n",
        "花弁長さ     0  \n",
        "花弁幅      0  \n",
        "種類       0  \n",
        "dtype: int64"
      ],
      "id": "Rz23OU7XoCdV"
    },
    {
      "cell_type": "markdown",
      "metadata": {
        "id": "69W1nzM2CY87"
      },
      "source": [
        "### 欠損値を削除する(行 その2)"
      ],
      "id": "69W1nzM2CY87"
    },
    {
      "cell_type": "markdown",
      "metadata": {
        "id": "j5ug8Q_FHZyF"
      },
      "source": [
        "**問10**  \n",
        "dfで**全ての列が欠損値の行**を削除してください。  \n",
        "また、欠損値が削除されたことを確認してください。"
      ],
      "id": "j5ug8Q_FHZyF"
    },
    {
      "cell_type": "code",
      "metadata": {
        "id": "811c2e27",
        "colab": {
          "base_uri": "https://localhost:8080/"
        },
        "outputId": "bd4e4125-7449-494b-eced-de687a8da4d1"
      },
      "source": [
        "# 欠損値を含む行を削除する\n",
        "df_dropna_row_all = df.dropna(how='all', axis=0)\n",
        "\n",
        "# 削除後データの行数、列数を表示し、行が減っていることを確認する\n",
        "df_dropna_row_all.shape"
      ],
      "id": "811c2e27",
      "execution_count": 34,
      "outputs": [
        {
          "output_type": "execute_result",
          "data": {
            "text/plain": [
              "(149, 5)"
            ]
          },
          "metadata": {},
          "execution_count": 34
        }
      ]
    },
    {
      "cell_type": "markdown",
      "metadata": {
        "id": "iRyiA8UUoEWW"
      },
      "source": [
        "▶実行結果\n",
        "\n",
        "(149, 5)"
      ],
      "id": "iRyiA8UUoEWW"
    },
    {
      "cell_type": "markdown",
      "metadata": {
        "id": "VEm0ChyTIZlU"
      },
      "source": [
        "**問11**  \n",
        "削除後データの各列の欠損値の個数を表示し、欠損値が減っていることを確認してください"
      ],
      "id": "VEm0ChyTIZlU"
    },
    {
      "cell_type": "code",
      "metadata": {
        "id": "fP8GGYWECrel",
        "colab": {
          "base_uri": "https://localhost:8080/"
        },
        "outputId": "70cc9a7a-bae3-4355-93d8-e8603fd8df37"
      },
      "source": [
        "df_dropna_row_all.isnull().sum()"
      ],
      "id": "fP8GGYWECrel",
      "execution_count": 35,
      "outputs": [
        {
          "output_type": "execute_result",
          "data": {
            "text/plain": [
              "がく片長さ    2\n",
              "がく片幅     1\n",
              "花弁長さ     2\n",
              "花弁幅      2\n",
              "種類       0\n",
              "dtype: int64"
            ]
          },
          "metadata": {},
          "execution_count": 35
        }
      ]
    },
    {
      "cell_type": "markdown",
      "metadata": {
        "id": "Onvgii6IoE-t"
      },
      "source": [
        "▶実行結果\n",
        "\n",
        "がく片長さ    2  \n",
        "がく片幅     1  \n",
        "花弁長さ     2  \n",
        "花弁幅      2  \n",
        "種類       0  \n",
        "dtype: int64"
      ],
      "id": "Onvgii6IoE-t"
    },
    {
      "cell_type": "markdown",
      "metadata": {
        "id": "i4H-dVpEBpLp"
      },
      "source": [
        "### 欠損値を削除する(列)"
      ],
      "id": "i4H-dVpEBpLp"
    },
    {
      "cell_type": "markdown",
      "metadata": {
        "id": "qbcz7OV1Isi5"
      },
      "source": [
        "**問12**  \n",
        "dfで**欠損値を含む列**を削除してください。  \n",
        "また、列が削除されたことを確認してください。"
      ],
      "id": "qbcz7OV1Isi5"
    },
    {
      "cell_type": "code",
      "metadata": {
        "id": "fEDMOG4EB2e4",
        "colab": {
          "base_uri": "https://localhost:8080/"
        },
        "outputId": "008f4a02-d31d-4794-a197-105cbaffcfbd"
      },
      "source": [
        "# 欠損値を含む列を削除する\n",
        "df_dropna_column_any = df.dropna(how='any', axis=1)\n",
        "\n",
        "# 削除後データの行数、列数を表示し、列が減っていることを確認する\n",
        "df_dropna_column_any.shape"
      ],
      "id": "fEDMOG4EB2e4",
      "execution_count": 36,
      "outputs": [
        {
          "output_type": "execute_result",
          "data": {
            "text/plain": [
              "(150, 0)"
            ]
          },
          "metadata": {},
          "execution_count": 36
        }
      ]
    },
    {
      "cell_type": "markdown",
      "metadata": {
        "id": "Hb6aGrXqoDZK"
      },
      "source": [
        "▶実行結果\n",
        "\n",
        "(150, 0)"
      ],
      "id": "Hb6aGrXqoDZK"
    },
    {
      "cell_type": "markdown",
      "metadata": {
        "id": "-FeWZfg4DBZE"
      },
      "source": [
        "### 欠損値の値を他の値に置き換える"
      ],
      "id": "-FeWZfg4DBZE"
    },
    {
      "cell_type": "markdown",
      "metadata": {
        "id": "-132zYxTyH3q"
      },
      "source": [
        "問10で作成した、すべての列が欠損値の行を消したあとのデータ(df_dropna_row_all)を使って、欠損値を下記のように置き換えます。\n",
        "* がく片長さ　…　がく片長さの平均値\n",
        "* がく片幅　…　がく片幅の平均値\n",
        "* 花弁長さ　…　花弁長さの中央値\n",
        "* 花弁幅　…　花弁幅の中央値"
      ],
      "id": "-132zYxTyH3q"
    },
    {
      "cell_type": "markdown",
      "metadata": {
        "id": "mHEDs2A62xzX"
      },
      "source": [
        "※df_dropna_row_allを変えないように、df_preprocessedにデータをコピーし、df_preprocessedの値を書き換えていきます。"
      ],
      "id": "mHEDs2A62xzX"
    },
    {
      "cell_type": "code",
      "metadata": {
        "id": "P07Np3BjzyX6"
      },
      "source": [
        "# df_dropna_row_allをコピーし、df_preprocessedに代入する\n",
        "df_preprocessed = df_dropna_row_all.copy()"
      ],
      "id": "P07Np3BjzyX6",
      "execution_count": 37,
      "outputs": []
    },
    {
      "cell_type": "markdown",
      "metadata": {
        "id": "VFsfoejgMR7_"
      },
      "source": [
        "**問13**  \n",
        "df_dropna_row_allの以下の値を表示してください\n",
        "* がく片長さ　…　がく片長さの平均値\n",
        "* がく片幅　…　がく片幅の平均値\n",
        "* 花弁長さ　…　花弁長さの中央値\n",
        "* 花弁幅　…　花弁幅の中央値"
      ],
      "id": "VFsfoejgMR7_"
    },
    {
      "cell_type": "code",
      "metadata": {
        "id": "GqoPt8aZL1gF",
        "colab": {
          "base_uri": "https://localhost:8080/"
        },
        "outputId": "87bf95a4-a5cd-4adf-a69e-fd3833cd8ac5"
      },
      "source": [
        "print('がく片長さの平均値:', df_dropna_row_all['がく片長さ'].mean())\n",
        "\n",
        "print('がく片幅の平均値:', df_dropna_row_all['がく片幅'].mean())\n",
        "\n",
        "print('花弁長さの中央値:', df_dropna_row_all['花弁長さ'].median())\n",
        "\n",
        "print('花弁幅の中央値:', df_dropna_row_all['花弁幅'].median())"
      ],
      "id": "GqoPt8aZL1gF",
      "execution_count": 38,
      "outputs": [
        {
          "output_type": "stream",
          "name": "stdout",
          "text": [
            "がく片長さの平均値: 0.42319727891156467\n",
            "がく片幅の平均値: 0.4394594594594597\n",
            "花弁長さの中央値: 0.49\n",
            "花弁幅の中央値: 0.5\n"
          ]
        }
      ]
    },
    {
      "cell_type": "markdown",
      "metadata": {
        "id": "FQ5e0pFkoF-G"
      },
      "source": [
        "▶実行結果  \n",
        "がく片長さの平均値: 0.42319727891156467  \n",
        "がく片幅の平均値: 0.4394594594594597  \n",
        "花弁長さの中央値: 0.49  \n",
        "花弁幅の中央値: 0.5  "
      ],
      "id": "FQ5e0pFkoF-G"
    },
    {
      "cell_type": "markdown",
      "metadata": {
        "id": "2yu4hv0sHri1"
      },
      "source": [
        "**問14**  \n",
        "それぞれの列の欠損値を穴埋めしてください"
      ],
      "id": "2yu4hv0sHri1"
    },
    {
      "cell_type": "code",
      "metadata": {
        "id": "ibgGOimvH6YJ",
        "colab": {
          "base_uri": "https://localhost:8080/"
        },
        "outputId": "a0b12b91-4448-425d-fb02-bff6e4421b58"
      },
      "source": [
        "# がく片長さの欠損値を置き換え、結果をdf_preprocessedに代入する\n",
        "df_preprocessed['がく片長さ'] = df_dropna_row_all['がく片長さ'].fillna(df_dropna_row_all['がく片長さ'].mean())\n",
        "\n",
        "# がく片幅の欠損値を置き換え、結果をdf_preprocessedに代入する\n",
        "df_preprocessed['がく片幅'] = df_dropna_row_all['がく片幅'].fillna(df_dropna_row_all['がく片幅'].mean())\n",
        "\n",
        "# 花弁長さの欠損値を置き換え、結果をdf_preprocessedに代入する\n",
        "df_preprocessed['花弁長さ'] = df_dropna_row_all['花弁長さ'].fillna(df_dropna_row_all['花弁長さ'].median())\n",
        "\n",
        "# 花弁幅の欠損値を置き換え、結果をdf_preprocessedに代入する\n",
        "df_preprocessed['花弁幅'] = df_dropna_row_all['花弁幅'].fillna(df_dropna_row_all['花弁幅'].median())\n",
        "\n",
        "# 各列の欠損値の有無（True/False）を表示し、欠損値が無いことを確認してください\n",
        "df_preprocessed.isnull().any(axis=0)"
      ],
      "id": "ibgGOimvH6YJ",
      "execution_count": 39,
      "outputs": [
        {
          "output_type": "execute_result",
          "data": {
            "text/plain": [
              "がく片長さ    False\n",
              "がく片幅     False\n",
              "花弁長さ     False\n",
              "花弁幅      False\n",
              "種類       False\n",
              "dtype: bool"
            ]
          },
          "metadata": {},
          "execution_count": 39
        }
      ]
    },
    {
      "cell_type": "markdown",
      "source": [
        "▶実行結果  \n",
        "がく片長さ    False  \n",
        "がく片幅     False  \n",
        "花弁長さ     False  \n",
        "花弁幅      False  \n",
        "種類       False  \n",
        "dtype: bool"
      ],
      "metadata": {
        "id": "OIw9L180lsK-"
      },
      "id": "OIw9L180lsK-"
    },
    {
      "cell_type": "markdown",
      "metadata": {
        "id": "GXtFQqsg472-"
      },
      "source": [
        "### 特徴量と正解データに分割する"
      ],
      "id": "GXtFQqsg472-"
    },
    {
      "cell_type": "markdown",
      "metadata": {
        "id": "PiS9eAnt764P"
      },
      "source": [
        "特徴量と正解データを以下の列とします\n",
        "* 特徴量　…　「がく片長さ」「がく片幅」「花弁長さ」「花弁幅」\n",
        "* 正解データ　…　「種類」"
      ],
      "id": "PiS9eAnt764P"
    },
    {
      "cell_type": "markdown",
      "source": [
        "**問15**  \n",
        "df_preprocessedから、特徴量を取り出して変数Xに、正解データを取り出して変数yに代入してください"
      ],
      "metadata": {
        "id": "UjVzYgfwO-2x"
      },
      "id": "UjVzYgfwO-2x"
    },
    {
      "cell_type": "code",
      "metadata": {
        "id": "89928ea3",
        "outputId": "abb409b2-8a90-4538-b719-e25396d2c7ad",
        "colab": {
          "base_uri": "https://localhost:8080/"
        }
      },
      "source": [
        "# 特徴量をXに代入し、先頭5行を表示する\n",
        "X = df_preprocessed[['がく片長さ', 'がく片幅', '花弁長さ', '花弁幅']]\n",
        "print('特徴量')\n",
        "print(X.head())\n",
        "\n",
        "# 正解データをyに代入し、先頭5行を表示する\n",
        "y = df_preprocessed['種類']\n",
        "print('正解データ')\n",
        "print(y.head())"
      ],
      "id": "89928ea3",
      "execution_count": 40,
      "outputs": [
        {
          "output_type": "stream",
          "name": "stdout",
          "text": [
            "特徴量\n",
            "   がく片長さ  がく片幅  花弁長さ   花弁幅\n",
            "0   0.22  0.63  0.08  0.04\n",
            "1   0.17  0.42  0.35  0.04\n",
            "2   0.11  0.50  0.13  0.04\n",
            "3   0.08  0.46  0.26  0.04\n",
            "4   0.19  0.67  0.44  0.04\n",
            "正解データ\n",
            "0    Iris-setosa\n",
            "1    Iris-setosa\n",
            "2    Iris-setosa\n",
            "3    Iris-setosa\n",
            "4    Iris-setosa\n",
            "Name: 種類, dtype: object\n"
          ]
        }
      ]
    },
    {
      "cell_type": "markdown",
      "metadata": {
        "id": "xaneiw5eoMp_"
      },
      "source": [
        "▶実行結果  \n",
        "特徴量  \n",
        "   がく片長さ  がく片幅  花弁長さ   花弁幅  \n",
        "0   0.22  0.63  0.08  0.04  \n",
        "1   0.17  0.42  0.35  0.04  \n",
        "2   0.11  0.50  0.13  0.04  \n",
        "3   0.08  0.46  0.26  0.04  \n",
        "4   0.19  0.67  0.44  0.04  \n",
        "正解データ  \n",
        "0    Iris-setosa  \n",
        "1    Iris-setosa  \n",
        "2    Iris-setosa  \n",
        "3    Iris-setosa  \n",
        "4    Iris-setosa  \n",
        "Name: 種類, dtype: object"
      ],
      "id": "xaneiw5eoMp_"
    },
    {
      "cell_type": "markdown",
      "metadata": {
        "id": "PtTBBIyqDW7Z"
      },
      "source": [
        "### ホールドアウト法で訓練データ、テストデータに分割する"
      ],
      "id": "PtTBBIyqDW7Z"
    },
    {
      "cell_type": "markdown",
      "source": [
        "**問16**  \n",
        "X、yを訓練データ、テストデータに分割してください。  \n",
        "テストデータに使用する割合を30%、乱数シードは0とする。"
      ],
      "metadata": {
        "id": "H_oE7fbCP-yL"
      },
      "id": "H_oE7fbCP-yL"
    },
    {
      "cell_type": "code",
      "metadata": {
        "id": "2e0c6c83",
        "outputId": "e3ed570c-517d-4b56-cea0-b88343734378",
        "colab": {
          "base_uri": "https://localhost:8080/"
        }
      },
      "source": [
        "# データ分割で使用するモジュールをインポートする\n",
        "from sklearn.model_selection import train_test_split\n",
        "\n",
        "# X, yを訓練データ、テストデータに分割する\n",
        "# * テストデータに使用する割合を30%、乱数シードは0とする\n",
        "# * 訓練データの特徴量を格納する変数名はX_trainとする\n",
        "# * テストデータの特徴量を格納する変数名はX_testとする\n",
        "# * 訓練データの正解データを格納する変数名はy_trainとする\n",
        "# * テストデータの正解データを格納する変数名はy_testとする\n",
        "X_train, X_test, y_train, y_test = train_test_split(X, y, test_size = 0.3, random_state = 0)\n",
        "\n",
        "# Xの行数、列数を表示する\n",
        "print(X.shape)\n",
        "\n",
        "# X_trainの行数、列数を表示する\n",
        "print(X_train.shape)\n",
        "\n",
        "# X_testの行数、列数を表示する\n",
        "print(X_test.shape)"
      ],
      "id": "2e0c6c83",
      "execution_count": 41,
      "outputs": [
        {
          "output_type": "stream",
          "name": "stdout",
          "text": [
            "(149, 4)\n",
            "(104, 4)\n",
            "(45, 4)\n"
          ]
        }
      ]
    },
    {
      "cell_type": "markdown",
      "metadata": {
        "id": "Cb4GuSJ5oOO3"
      },
      "source": [
        "▶実行結果\n",
        "\n",
        "(149, 4)  \n",
        "(104, 4)  \n",
        "(45, 4)"
      ],
      "id": "Cb4GuSJ5oOO3"
    },
    {
      "cell_type": "markdown",
      "metadata": {
        "id": "1lpqkLcC_S-3"
      },
      "source": [
        "### 学習と評価"
      ],
      "id": "1lpqkLcC_S-3"
    },
    {
      "cell_type": "markdown",
      "metadata": {
        "id": "42p1cUTQU4Zw"
      },
      "source": [
        "**問17**  \n",
        "訓練データでモデルを学習させてください  \n",
        "訓練データでの正解率、テストデータの正解率を求めてください"
      ],
      "id": "42p1cUTQU4Zw"
    },
    {
      "cell_type": "code",
      "metadata": {
        "id": "21522cd4",
        "outputId": "2a51ddc2-787a-4305-e92f-c5c499397d04",
        "colab": {
          "base_uri": "https://localhost:8080/"
        }
      },
      "source": [
        "# scikitlearnの決定木をインポートする\n",
        "from sklearn import tree\n",
        "\n",
        "# 決定木モデルを生成し、modelに代入する\n",
        "# * 最大の深さは2とする\n",
        "# * 乱数シードは0とする\n",
        "model = tree.DecisionTreeClassifier(max_depth = 2, random_state = 0)\n",
        "\n",
        "# 訓練データで学習を実行する\n",
        "model.fit(X_train, y_train)\n",
        "\n",
        "# 訓練データの正解率を表示する\n",
        "print('訓練データでの正解率:', model.score(X_train, y_train))\n",
        "\n",
        "# テストデータの正解率を表示する\n",
        "print('テストデータでの正解率:', model.score(X_test, y_test))"
      ],
      "id": "21522cd4",
      "execution_count": 42,
      "outputs": [
        {
          "output_type": "stream",
          "name": "stdout",
          "text": [
            "訓練データでの正解率: 0.9615384615384616\n",
            "テストデータでの正解率: 0.8888888888888888\n"
          ]
        }
      ]
    },
    {
      "cell_type": "markdown",
      "metadata": {
        "id": "4TfmxN47oO2x"
      },
      "source": [
        "▶実行結果\n",
        "\n",
        "訓練データでの正解率: 0.9615384615384616  \n",
        "テストデータでの正解率: 0.8888888888888888"
      ],
      "id": "4TfmxN47oO2x"
    },
    {
      "cell_type": "markdown",
      "metadata": {
        "id": "W0IixeqcWRJ3"
      },
      "source": [
        "### 新たなデータで予測する"
      ],
      "id": "W0IixeqcWRJ3"
    },
    {
      "cell_type": "markdown",
      "metadata": {
        "id": "dea8808f"
      },
      "source": [
        "**問18**  \n",
        "以下の表のデータで予測し、結果を表示してください\n",
        "\n",
        "|がく片長さ|がく片幅|花弁長さ|花弁幅|\n",
        "| ----: | ----: | ----: | ----: |\n",
        "|0.75|0.6|0.3|0.08|\n",
        "|0.53|0.3|0.4|0.6|\n",
        "|0.6|0.6|0.6|1|\n"
      ],
      "id": "dea8808f"
    },
    {
      "cell_type": "code",
      "metadata": {
        "id": "qUzpdIUcEvhm",
        "outputId": "e289d165-55a9-41e9-da70-8e6c20f548cd",
        "colab": {
          "base_uri": "https://localhost:8080/"
        }
      },
      "source": [
        "# データを格納したデータフレームを生成する\n",
        "predict_data = pd.DataFrame([[0.75, 0.6, 0.3, 0.08],\n",
        "                             [0.53, 0.3, 0.4, 0.6],\n",
        "                             [0.6, 0.6, 0.6, 1]])\n",
        "\n",
        "# 作成したデータフレームを用いて予測し、結果を表示する\n",
        "model.predict(predict_data)"
      ],
      "id": "qUzpdIUcEvhm",
      "execution_count": 43,
      "outputs": [
        {
          "output_type": "stream",
          "name": "stderr",
          "text": [
            "/usr/local/lib/python3.7/dist-packages/sklearn/base.py:451: UserWarning: X does not have valid feature names, but DecisionTreeClassifier was fitted with feature names\n",
            "  \"X does not have valid feature names, but\"\n"
          ]
        },
        {
          "output_type": "execute_result",
          "data": {
            "text/plain": [
              "array(['Iris-setosa', 'Iris-versicolor', 'Iris-virginica'], dtype=object)"
            ]
          },
          "metadata": {},
          "execution_count": 43
        }
      ]
    },
    {
      "cell_type": "markdown",
      "metadata": {
        "id": "a3R-Pw6doU5V"
      },
      "source": [
        "▶実行結果\n",
        "\n",
        "/usr/local/lib/python3.7/dist-packages/sklearn/base.py:451: UserWarning: X does not have valid feature names, but DecisionTreeClassifier was fitted with feature names\n",
        "  \"X does not have valid feature names, but\"　　\n",
        "array(['Iris-setosa', 'Iris-versicolor', 'Iris-virginica'], dtype=object)"
      ],
      "id": "a3R-Pw6doU5V"
    },
    {
      "cell_type": "markdown",
      "metadata": {
        "id": "EdqV2XLGZAIq"
      },
      "source": [
        "### 分岐条件を調べる"
      ],
      "id": "EdqV2XLGZAIq"
    },
    {
      "cell_type": "markdown",
      "source": [
        "**問19**  \n",
        "特徴量の列名、分岐条件の列、分岐条件の閾値を表示してください"
      ],
      "metadata": {
        "id": "OKCU88BlR6no"
      },
      "id": "OKCU88BlR6no"
    },
    {
      "cell_type": "code",
      "metadata": {
        "id": "397af16a",
        "outputId": "2c7726de-7f58-4201-bb99-79f82704289c",
        "colab": {
          "base_uri": "https://localhost:8080/"
        }
      },
      "source": [
        "print(\"==列名==\")\n",
        "# 特徴量(X_train)の列名を表示する\n",
        "print(X_train.columns)\n",
        "\n",
        "print(\"==分岐条件の列==\")\n",
        "# model(決定木)の分岐条件の列を表示する\n",
        "print(model.tree_.feature)\n",
        "\n",
        "print(\"==閾値==\")\n",
        "# model(決定木)の分岐条件の閾値を表示する\n",
        "print(model.tree_.threshold)"
      ],
      "id": "397af16a",
      "execution_count": 44,
      "outputs": [
        {
          "output_type": "stream",
          "name": "stdout",
          "text": [
            "==列名==\n",
            "Index(['がく片長さ', 'がく片幅', '花弁長さ', '花弁幅'], dtype='object')\n",
            "==分岐条件の列==\n",
            "[ 3 -2  3 -2 -2]\n",
            "==閾値==\n",
            "[ 0.29499999 -2.          0.69       -2.         -2.        ]\n"
          ]
        }
      ]
    },
    {
      "cell_type": "markdown",
      "metadata": {
        "id": "zUvmOPjBoVir"
      },
      "source": [
        "▶実行結果\n",
        "\n",
        "==列名==  \n",
        "Index(['がく片長さ', 'がく片幅', '花弁長さ', '花弁幅'], dtype='object')  \n",
        "==分岐条件の列==  \n",
        "[ 3 -2  3 -2 -2]  \n",
        "==閾値==  \n",
        "[ 0.29499999 -2.          0.69       -2.         -2.        ]"
      ],
      "id": "zUvmOPjBoVir"
    },
    {
      "cell_type": "markdown",
      "source": [
        "**問20**  \n",
        "リーフに到達した各分類のデータ数、各分類がどの種類を示すのか、を表示してください"
      ],
      "metadata": {
        "id": "mv3gcCUDTOFh"
      },
      "id": "mv3gcCUDTOFh"
    },
    {
      "cell_type": "code",
      "metadata": {
        "id": "16465b20",
        "outputId": "aa3810f0-f70b-42b2-f179-eb10be2225b8",
        "colab": {
          "base_uri": "https://localhost:8080/"
        }
      },
      "source": [
        "print(\"==リーフの各分類のデータ数==\")\n",
        "# 決定木の各末端ノード(3箇所)について、到達したデータ数を表示する\n",
        "# ヒント：問26の「分岐条件の列」が「-2」となっているインデックスが、末端ノードのインデックスになる\n",
        "print(model.tree_.value[1])\n",
        "print(model.tree_.value[3])\n",
        "print(model.tree_.value[4])\n",
        "\n",
        "print(\"==各分類の種類==\")\n",
        "# 各分類がどの種類を示しているのかを表示する\n",
        "print(model.classes_)\n"
      ],
      "id": "16465b20",
      "execution_count": 45,
      "outputs": [
        {
          "output_type": "stream",
          "name": "stdout",
          "text": [
            "==リーフの各分類のデータ数==\n",
            "[[33.  0.  0.]]\n",
            "[[ 0. 34.  4.]]\n",
            "[[ 0.  0. 33.]]\n",
            "==各分類の種類==\n",
            "['Iris-setosa' 'Iris-versicolor' 'Iris-virginica']\n"
          ]
        }
      ]
    },
    {
      "cell_type": "markdown",
      "metadata": {
        "id": "j2f2Fu6voWK0"
      },
      "source": [
        "▶実行結果\n",
        "\n",
        "==リーフの各分類のデータ数==  \n",
        "[[33.  0.  0.]]  \n",
        "[[ 0. 34.  4.]]  \n",
        "[[ 0.  0. 33.]]  \n",
        "==各分類の種類==  \n",
        "['Iris-setosa' 'Iris-versicolor' 'Iris-virginica']"
      ],
      "id": "j2f2Fu6voWK0"
    },
    {
      "cell_type": "markdown",
      "source": [
        "**問21**  \n",
        "plot_tree関数を使って、決定木を描画してください"
      ],
      "metadata": {
        "id": "1sowAaZLXBxT"
      },
      "id": "1sowAaZLXBxT"
    },
    {
      "cell_type": "code",
      "metadata": {
        "id": "b79b000b",
        "outputId": "3cf31a45-13f5-4de6-def7-bbbda75aca73",
        "colab": {
          "base_uri": "https://localhost:8080/",
          "height": 335
        }
      },
      "source": [
        "# X_trainの列名を英字にする\n",
        "X_train.columns = ['gaku_nagasa', 'gaku_haba', 'kaben_nagasa', 'kaben_haba']\n",
        "\n",
        "# X_trainの場合の決定木を描画する\n",
        "tree.plot_tree(model, feature_names = X_train.columns, filled=True)"
      ],
      "id": "b79b000b",
      "execution_count": 46,
      "outputs": [
        {
          "output_type": "execute_result",
          "data": {
            "text/plain": [
              "[Text(0.4, 0.8333333333333334, 'kaben_haba <= 0.295\\ngini = 0.666\\nsamples = 104\\nvalue = [33, 34, 37]'),\n",
              " Text(0.2, 0.5, 'gini = 0.0\\nsamples = 33\\nvalue = [33, 0, 0]'),\n",
              " Text(0.6, 0.5, 'kaben_haba <= 0.69\\ngini = 0.499\\nsamples = 71\\nvalue = [0, 34, 37]'),\n",
              " Text(0.4, 0.16666666666666666, 'gini = 0.188\\nsamples = 38\\nvalue = [0, 34, 4]'),\n",
              " Text(0.8, 0.16666666666666666, 'gini = 0.0\\nsamples = 33\\nvalue = [0, 0, 33]')]"
            ]
          },
          "metadata": {},
          "execution_count": 46
        },
        {
          "output_type": "display_data",
          "data": {
            "image/png": "[encoded data removed]",
            "text/plain": [
              "<Figure size 432x288 with 1 Axes>"
            ]
          },
          "metadata": {
            "needs_background": "light"
          }
        }
      ]
    },
    {
      "cell_type": "markdown",
      "metadata": {
        "id": "Pj9Bm9pyoXrY"
      },
      "source": [
        "▶実行結果\n",
        "\n",
        "![image.png](data:image/png;base64,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)"
      ],
      "id": "Pj9Bm9pyoXrY"
    },
    {
      "cell_type": "markdown",
      "metadata": {
        "id": "25p8WIUTWk1U"
      },
      "source": [
        "### モデルの保存"
      ],
      "id": "25p8WIUTWk1U"
    },
    {
      "cell_type": "markdown",
      "source": [
        "**問22**  \n",
        "学習済みモデルを「chapter05_model.pkl」という名前で保存してください"
      ],
      "metadata": {
        "id": "9f9cqIyeXLfj"
      },
      "id": "9f9cqIyeXLfj"
    },
    {
      "cell_type": "code",
      "metadata": {
        "id": "lPV2TR1mZn0-"
      },
      "source": [
        "# 必要なライブラリをインポートする\n",
        "import pickle\n",
        "\n",
        "# モデルを「chapter05_model.pkl」という名前で保存する\n",
        "with open('chapter05_model.pkl', 'wb') as f:\n",
        "    pickle.dump(model, f)"
      ],
      "id": "lPV2TR1mZn0-",
      "execution_count": 47,
      "outputs": []
    },
    {
      "cell_type": "markdown",
      "source": [
        "**問23**  \n",
        "保存した「chapter05_model.pkl」をmodel2という名前で読み込み、問18のデータを予測した結果を表示してください"
      ],
      "metadata": {
        "id": "1uBDPjQgXubK"
      },
      "id": "1uBDPjQgXubK"
    },
    {
      "cell_type": "code",
      "metadata": {
        "id": "a0ea40f3",
        "outputId": "b5d98ef7-2721-4412-cbc7-09fe03d73ca5",
        "colab": {
          "base_uri": "https://localhost:8080/"
        }
      },
      "source": [
        "# 保存したモデルを読み込む\n",
        "with open('chapter05_model.pkl', 'rb') as f:\n",
        "    model2 = pickle.load(f)\n",
        "\n",
        "# 読み込んだモデルで予測し、結果を表示する\n",
        "model2.predict(predict_data)"
      ],
      "id": "a0ea40f3",
      "execution_count": 48,
      "outputs": [
        {
          "output_type": "stream",
          "name": "stderr",
          "text": [
            "/usr/local/lib/python3.7/dist-packages/sklearn/base.py:451: UserWarning: X does not have valid feature names, but DecisionTreeClassifier was fitted with feature names\n",
            "  \"X does not have valid feature names, but\"\n"
          ]
        },
        {
          "output_type": "execute_result",
          "data": {
            "text/plain": [
              "array(['Iris-setosa', 'Iris-versicolor', 'Iris-virginica'], dtype=object)"
            ]
          },
          "metadata": {},
          "execution_count": 48
        }
      ]
    },
    {
      "cell_type": "markdown",
      "metadata": {
        "id": "13R_bwIGoYZG"
      },
      "source": [
        "▶実行結果  \n",
        "/usr/local/lib/python3.7/dist-packages/sklearn/base.py:451: UserWarning: X does not have valid feature names, but DecisionTreeClassifier was fitted with feature names\n",
        "  \"X does not have valid feature names, but\"  \n",
        "array(['Iris-setosa', 'Iris-versicolor', 'Iris-virginica'], dtype=object)"
      ],
      "id": "13R_bwIGoYZG"
    },
    {
      "cell_type": "code",
      "source": [
        ""
      ],
      "metadata": {
        "id": "mAKd0P-OYMzm"
      },
      "id": "mAKd0P-OYMzm",
      "execution_count": 48,
      "outputs": []
    }
  ]
}