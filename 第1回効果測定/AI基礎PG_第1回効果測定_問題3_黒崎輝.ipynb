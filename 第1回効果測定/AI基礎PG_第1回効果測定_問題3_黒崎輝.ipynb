{
  "nbformat": 4,
  "nbformat_minor": 5,
  "metadata": {
    "kernelspec": {
      "display_name": "Python 3 (ipykernel)",
      "language": "python",
      "name": "python3"
    },
    "language_info": {
      "codemirror_mode": {
        "name": "ipython",
        "version": 3
      },
      "file_extension": ".py",
      "mimetype": "text/x-python",
      "name": "python",
      "nbconvert_exporter": "python",
      "pygments_lexer": "ipython3",
      "version": "3.8.11"
    },
    "colab": {
      "name": "AI基礎PG_第1回効果測定_問題3_黒崎輝ipynb",
      "provenance": [],
      "collapsed_sections": []
    }
  },
  "cells": [
    {
      "cell_type": "markdown",
      "metadata": {
        "id": "cGyIlGd8abX9"
      },
      "source": [
        "AI基礎プログラミング 効果測定1 問題3"
      ],
      "id": "cGyIlGd8abX9"
    },
    {
      "cell_type": "markdown",
      "metadata": {
        "id": "61f4e866"
      },
      "source": [
        "以下のプログラムを実装してください\n",
        "\n",
        "読み込むCSVファイル  「Survived_kouka1.csv」"
      ],
      "id": "61f4e866"
    },
    {
      "cell_type": "code",
      "metadata": {
        "id": "CGpTfthNa2kS",
        "colab": {
          "base_uri": "https://localhost:8080/"
        },
        "outputId": "631638e4-b25c-442c-a81d-b6a5e2a95d13"
      },
      "source": [
        "# matplolibを表示できるようにする\n",
        "%matplotlib inline\n",
        "\n",
        "# ライブラリのインポート\n",
        "import pandas as pd\n",
        "from sklearn.model_selection import train_test_split\n",
        "from sklearn import tree\n",
        "import pickle\n",
        "\n",
        "# CSVファイルを読み込む\n",
        "df = pd.read_csv('Survived_kouka1.csv')\n",
        "\n",
        "# 変数dfの先頭5行の中身を表示する\n",
        "print(df.head())\n",
        "\n",
        "# 各列の欠損値の件数を表示する\n",
        "print(df.isnull().sum())"
      ],
      "id": "CGpTfthNa2kS",
      "execution_count": 123,
      "outputs": [
        {
          "output_type": "stream",
          "name": "stdout",
          "text": [
            "   PassengerId  Survived  Pclass  ...     Fare  Cabin  Embarked\n",
            "0            1         0       3  ...   7.2500    NaN         S\n",
            "1            2         1       1  ...  71.2833    C85         C\n",
            "2            3         1       3  ...   7.9250    NaN         S\n",
            "3            4         1       1  ...  53.1000   C123         S\n",
            "4            5         0       3  ...   8.0500    NaN         S\n",
            "\n",
            "[5 rows x 11 columns]\n",
            "PassengerId      0\n",
            "Survived         0\n",
            "Pclass           0\n",
            "Sex              0\n",
            "Age            176\n",
            "SibSp            0\n",
            "Parch            0\n",
            "Ticket           0\n",
            "Fare             0\n",
            "Cabin          687\n",
            "Embarked         2\n",
            "dtype: int64\n"
          ]
        }
      ]
    },
    {
      "cell_type": "code",
      "metadata": {
        "id": "xwZSbah7qpz0",
        "colab": {
          "base_uri": "https://localhost:8080/"
        },
        "outputId": "35c1e3e1-66c5-43dd-c813-5bf9acd17ba1"
      },
      "source": [
        "# ★① 「Survived」列のデータに偏りが有るかどうか(データごとの出現回数)を確認する\n",
        "# ※なお、今回はデータに「偏りが有る」と判断したものとする\n",
        "df['Survived'].value_counts()"
      ],
      "id": "xwZSbah7qpz0",
      "execution_count": 124,
      "outputs": [
        {
          "output_type": "execute_result",
          "data": {
            "text/plain": [
              "0    549\n",
              "1    342\n",
              "Name: Survived, dtype: int64"
            ]
          },
          "metadata": {},
          "execution_count": 124
        }
      ]
    },
    {
      "cell_type": "markdown",
      "metadata": {
        "id": "G3vkv5PX_ajx"
      },
      "source": [
        "▶実行結果  \n",
        "0    549  \n",
        "1    342  \n",
        "Name: Survived, dtype: int64"
      ],
      "id": "G3vkv5PX_ajx"
    },
    {
      "cell_type": "code",
      "metadata": {
        "id": "WzXPcgKRq2EE",
        "colab": {
          "base_uri": "https://localhost:8080/"
        },
        "outputId": "60cc31ce-4892-4d44-87ea-7514462528b5"
      },
      "source": [
        "# ★② 「Survived」列を基準に、「Age」列の『平均値』を表示する\n",
        "df.groupby('Survived').mean()['Age']"
      ],
      "id": "WzXPcgKRq2EE",
      "execution_count": 125,
      "outputs": [
        {
          "output_type": "execute_result",
          "data": {
            "text/plain": [
              "Survived\n",
              "0    30.542453\n",
              "1    28.315017\n",
              "Name: Age, dtype: float64"
            ]
          },
          "metadata": {},
          "execution_count": 125
        }
      ]
    },
    {
      "cell_type": "markdown",
      "metadata": {
        "id": "hdHZ-kVW_lSY"
      },
      "source": [
        "▶実行結果  \n",
        "Survived  \n",
        "0    30.542453  \n",
        "1    28.315017  \n",
        "Name: Age, dtype: float64"
      ],
      "id": "hdHZ-kVW_lSY"
    },
    {
      "cell_type": "code",
      "metadata": {
        "id": "gBcXeoQJsCDe",
        "colab": {
          "base_uri": "https://localhost:8080/",
          "height": 143
        },
        "outputId": "566ca714-343c-45c0-c7ce-38927c1b5abd"
      },
      "source": [
        "# ★③ 「Survived」列のデータと「Pclass」列でクロス集計して、「Age」列の『中央値』を表示する\n",
        "pd.pivot_table(df, index = 'Survived', columns = 'Pclass', values = 'Age', aggfunc = 'median')"
      ],
      "id": "gBcXeoQJsCDe",
      "execution_count": 126,
      "outputs": [
        {
          "output_type": "execute_result",
          "data": {
            "text/html": [
              "\n",
              "  <div id=\"df-e7d8cdcc-28e3-4ad8-8e06-c960d2da3c3a\">\n",
              "    <div class=\"colab-df-container\">\n",
              "      <div>\n",
              "<style scoped>\n",
              "    .dataframe tbody tr th:only-of-type {\n",
              "        vertical-align: middle;\n",
              "    }\n",
              "\n",
              "    .dataframe tbody tr th {\n",
              "        vertical-align: top;\n",
              "    }\n",
              "\n",
              "    .dataframe thead th {\n",
              "        text-align: right;\n",
              "    }\n",
              "</style>\n",
              "<table border=\"1\" class=\"dataframe\">\n",
              "  <thead>\n",
              "    <tr style=\"text-align: right;\">\n",
              "      <th>Pclass</th>\n",
              "      <th>1</th>\n",
              "      <th>2</th>\n",
              "      <th>3</th>\n",
              "    </tr>\n",
              "    <tr>\n",
              "      <th>Survived</th>\n",
              "      <th></th>\n",
              "      <th></th>\n",
              "      <th></th>\n",
              "    </tr>\n",
              "  </thead>\n",
              "  <tbody>\n",
              "    <tr>\n",
              "      <th>0</th>\n",
              "      <td>45.25</td>\n",
              "      <td>30.0</td>\n",
              "      <td>25.0</td>\n",
              "    </tr>\n",
              "    <tr>\n",
              "      <th>1</th>\n",
              "      <td>35.00</td>\n",
              "      <td>28.0</td>\n",
              "      <td>22.0</td>\n",
              "    </tr>\n",
              "  </tbody>\n",
              "</table>\n",
              "</div>\n",
              "      <button class=\"colab-df-convert\" onclick=\"convertToInteractive('df-e7d8cdcc-28e3-4ad8-8e06-c960d2da3c3a')\"\n",
              "              title=\"Convert this dataframe to an interactive table.\"\n",
              "              style=\"display:none;\">\n",
              "        \n",
              "  <svg xmlns=\"http://www.w3.org/2000/svg\" height=\"24px\"viewBox=\"0 0 24 24\"\n",
              "       width=\"24px\">\n",
              "    <path d=\"M0 0h24v24H0V0z\" fill=\"none\"/>\n",
              "    <path d=\"M18.56 5.44l.94 2.06.94-2.06 2.06-.94-2.06-.94-.94-2.06-.94 2.06-2.06.94zm-11 1L8.5 8.5l.94-2.06 2.06-.94-2.06-.94L8.5 2.5l-.94 2.06-2.06.94zm10 10l.94 2.06.94-2.06 2.06-.94-2.06-.94-.94-2.06-.94 2.06-2.06.94z\"/><path d=\"M17.41 7.96l-1.37-1.37c-.4-.4-.92-.59-1.43-.59-.52 0-1.04.2-1.43.59L10.3 9.45l-7.72 7.72c-.78.78-.78 2.05 0 2.83L4 21.41c.39.39.9.59 1.41.59.51 0 1.02-.2 1.41-.59l7.78-7.78 2.81-2.81c.8-.78.8-2.07 0-2.86zM5.41 20L4 18.59l7.72-7.72 1.47 1.35L5.41 20z\"/>\n",
              "  </svg>\n",
              "      </button>\n",
              "      \n",
              "  <style>\n",
              "    .colab-df-container {\n",
              "      display:flex;\n",
              "      flex-wrap:wrap;\n",
              "      gap: 12px;\n",
              "    }\n",
              "\n",
              "    .colab-df-convert {\n",
              "      background-color: #E8F0FE;\n",
              "      border: none;\n",
              "      border-radius: 50%;\n",
              "      cursor: pointer;\n",
              "      display: none;\n",
              "      fill: #1967D2;\n",
              "      height: 32px;\n",
              "      padding: 0 0 0 0;\n",
              "      width: 32px;\n",
              "    }\n",
              "\n",
              "    .colab-df-convert:hover {\n",
              "      background-color: #E2EBFA;\n",
              "      box-shadow: 0px 1px 2px rgba(60, 64, 67, 0.3), 0px 1px 3px 1px rgba(60, 64, 67, 0.15);\n",
              "      fill: #174EA6;\n",
              "    }\n",
              "\n",
              "    [theme=dark] .colab-df-convert {\n",
              "      background-color: #3B4455;\n",
              "      fill: #D2E3FC;\n",
              "    }\n",
              "\n",
              "    [theme=dark] .colab-df-convert:hover {\n",
              "      background-color: #434B5C;\n",
              "      box-shadow: 0px 1px 3px 1px rgba(0, 0, 0, 0.15);\n",
              "      filter: drop-shadow(0px 1px 2px rgba(0, 0, 0, 0.3));\n",
              "      fill: #FFFFFF;\n",
              "    }\n",
              "  </style>\n",
              "\n",
              "      <script>\n",
              "        const buttonEl =\n",
              "          document.querySelector('#df-e7d8cdcc-28e3-4ad8-8e06-c960d2da3c3a button.colab-df-convert');\n",
              "        buttonEl.style.display =\n",
              "          google.colab.kernel.accessAllowed ? 'block' : 'none';\n",
              "\n",
              "        async function convertToInteractive(key) {\n",
              "          const element = document.querySelector('#df-e7d8cdcc-28e3-4ad8-8e06-c960d2da3c3a');\n",
              "          const dataTable =\n",
              "            await google.colab.kernel.invokeFunction('convertToInteractive',\n",
              "                                                     [key], {});\n",
              "          if (!dataTable) return;\n",
              "\n",
              "          const docLinkHtml = 'Like what you see? Visit the ' +\n",
              "            '<a target=\"_blank\" href=https://colab.research.google.com/notebooks/data_table.ipynb>data table notebook</a>'\n",
              "            + ' to learn more about interactive tables.';\n",
              "          element.innerHTML = '';\n",
              "          dataTable['output_type'] = 'display_data';\n",
              "          await google.colab.output.renderOutput(dataTable, element);\n",
              "          const docLink = document.createElement('div');\n",
              "          docLink.innerHTML = docLinkHtml;\n",
              "          element.appendChild(docLink);\n",
              "        }\n",
              "      </script>\n",
              "    </div>\n",
              "  </div>\n",
              "  "
            ],
            "text/plain": [
              "Pclass        1     2     3\n",
              "Survived                   \n",
              "0         45.25  30.0  25.0\n",
              "1         35.00  28.0  22.0"
            ]
          },
          "metadata": {},
          "execution_count": 126
        }
      ]
    },
    {
      "cell_type": "markdown",
      "metadata": {
        "id": "pxXLAheI_z_E"
      },
      "source": [
        "▶実行結果  \n",
        "![image.png](data:image/png;base64,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)"
      ],
      "id": "pxXLAheI_z_E"
    },
    {
      "cell_type": "code",
      "metadata": {
        "id": "Z9qfwRbPtJkp",
        "colab": {
          "base_uri": "https://localhost:8080/"
        },
        "outputId": "e51c1187-b03d-4eb6-cfc0-9fda1bbcc866"
      },
      "source": [
        "# ★④ 以下の条件に当てはまる「Age」列を 29 に置き換える\n",
        "# 「Pclass」列 = 2\n",
        "# 「Sex」列 = male\n",
        "# 「Survived」列 = 1\n",
        "# 「Age」列 = NaN(欠損値)\n",
        "df.loc[(df['Pclass'] == 2) & (df['Sex'] == 'male') & (df['Survived'] == 1) & (df['Age'] == 'NaN')] = 29\n",
        "\n",
        "# 上記以外の「Age」列の欠損値は 平均値で置き換える\n",
        "df = df.fillna(df.mean())"
      ],
      "id": "Z9qfwRbPtJkp",
      "execution_count": 127,
      "outputs": [
        {
          "output_type": "stream",
          "name": "stderr",
          "text": [
            "/usr/local/lib/python3.7/dist-packages/ipykernel_launcher.py:9: FutureWarning: Dropping of nuisance columns in DataFrame reductions (with 'numeric_only=None') is deprecated; in a future version this will raise TypeError.  Select only valid columns before calling the reduction.\n",
            "  if __name__ == '__main__':\n"
          ]
        }
      ]
    },
    {
      "cell_type": "code",
      "metadata": {
        "id": "7woWYvmRq1X8"
      },
      "source": [
        "# 特徴量と正解データを以下の列とする\n",
        "# 特徴量　…　「Pclass」「Age」「SibSp」「Parch」「Fare」「Sex」\n",
        "#              ※「Sex」列はダミー変数化する\n",
        "# 正解データ　…　「Survived」\n",
        "\n",
        "# 「Sex」列以外の特徴量を変数Xに代入する\n",
        "X = df[['Pclass', 'Age', 'SibSp', 'Parch', 'Fare']]\n",
        "\n",
        "# ★⑤ 「Sex」列をダミー変数化し、「male」列のみを変数maleに代入する\n",
        "male = pd.get_dummies(df['Sex'])\n",
        "male = male.loc[:, 'male']\n",
        "\n",
        "# ★⑥ 変数Xに上記の変数maleを横方向に連結した結果を、変数Xに代入しなおす\n",
        "X = pd.concat([X, male] , axis=1)\n",
        "\n",
        "# 正解データを変数yに代入する\n",
        "y = df['Survived']\n",
        "\n",
        "# ★⑦ 変数X, 変数yを「学習で用いるデータ」と「テストで用いるデータ」に分割する\n",
        "# * テストデータに使用する割合を『30%』、乱数シードは0とする\n",
        "# * 「学習で用いるデータ」の特徴量を変数X_trainに代入する\n",
        "# * 「テストで用いるデータ」の特徴量を変数X_testに代入する\n",
        "# * 「学習で用いるデータ」の正解データを変数y_trainに代入する\n",
        "# * 「テストで用いるデータ」の正解データを変数y_testに代入する\n",
        "X_train, X_test, y_train, y_test = train_test_split(X, y, test_size = 0.3, random_state = 0)"
      ],
      "id": "7woWYvmRq1X8",
      "execution_count": 128,
      "outputs": []
    },
    {
      "cell_type": "code",
      "metadata": {
        "id": "ShqGDUWPx0Og",
        "colab": {
          "base_uri": "https://localhost:8080/"
        },
        "outputId": "1fccb04c-62e9-409b-d285-57f20e6779f8"
      },
      "source": [
        "# ★⑧ 決定木を生成する\n",
        "# * 深さは5とする\n",
        "# * 乱数シードは0とする\n",
        "# * 不均衡データへ対処するオプションを使用する\n",
        "model = tree.DecisionTreeClassifier(max_depth = 5, random_state = 0, class_weight ='balanced')\n",
        "\n",
        "# 「学習で用いるデータ」を使って学習する\n",
        "model.fit(X_train, y_train)\n",
        "\n",
        "# ★⑨ 「学習で用いるデータ」、「テストで用いるデータ」での正解率を表示する\n",
        "# 「学習で用いるデータ」での正解率を表示する\n",
        "print('==学習データの正解率==')\n",
        "print(model.score(X_train, y_train))\n",
        "\n",
        "# 「テストで用いるデータ」での正解率を表示する\n",
        "print('==テストデータの正解率==')\n",
        "print(model.score(X_test, y_test))"
      ],
      "id": "ShqGDUWPx0Og",
      "execution_count": 129,
      "outputs": [
        {
          "output_type": "stream",
          "name": "stdout",
          "text": [
            "==学習データの正解率==\n",
            "0.8346709470304976\n",
            "==テストデータの正解率==\n",
            "0.7873134328358209\n"
          ]
        }
      ]
    },
    {
      "cell_type": "markdown",
      "metadata": {
        "id": "Ynah7bRnAWnJ"
      },
      "source": [
        "▶実行結果  \n",
        "==学習データの正解率==  \n",
        "0.8346709470304976  \n",
        "==テストデータの正解率==  \n",
        "0.7873134328358209"
      ],
      "id": "Ynah7bRnAWnJ"
    },
    {
      "cell_type": "code",
      "metadata": {
        "id": "i21p7CHZEXN7",
        "colab": {
          "base_uri": "https://localhost:8080/"
        },
        "outputId": "2a5f1603-f2fd-4c2c-a434-4ff4c0f62a9b"
      },
      "source": [
        "# ★⑩ 分岐条件の列、閾値を表示する\n",
        "# 特徴量(X_train)の列名を表示する\n",
        "print(\"==列名==\")\n",
        "print(X_train.columns)\n",
        "\n",
        "# 決定木の分岐条件の列を表示する\n",
        "print(\"==分岐条件の列==\")\n",
        "print(model.tree_.feature)\n",
        "\n",
        "\n",
        "# 決定木の分岐条件の閾値を表示する\n",
        "print(\"==閾値==\")\n",
        "print(model.tree_.threshold)"
      ],
      "id": "i21p7CHZEXN7",
      "execution_count": 130,
      "outputs": [
        {
          "output_type": "stream",
          "name": "stdout",
          "text": [
            "==列名==\n",
            "Index(['Pclass', 'Age', 'SibSp', 'Parch', 'Fare', 'male'], dtype='object')\n",
            "==分岐条件の列==\n",
            "[ 5  0  1 -2  4  4 -2 -2  4 -2 -2  4  1  2 -2 -2 -2  3 -2  1 -2 -2  1  2\n",
            "  3  2 -2 -2  2 -2 -2 -2  0  1  4 -2 -2  1 -2 -2  1  1 -2 -2  4 -2 -2]\n",
            "==閾値==\n",
            "[  0.5          2.5          2.5         -2.          28.85624981\n",
            "  28.23124981  -2.          -2.         149.03540039  -2.\n",
            "  -2.          23.35000038  38.5          2.5         -2.\n",
            "  -2.          -2.           0.5         -2.           5.5\n",
            "  -2.          -2.          14.           2.5          0.5\n",
            "   0.5         -2.          -2.           0.5         -2.\n",
            "  -2.          -2.           1.5         53.          26.14375019\n",
            "  -2.          -2.          75.5         -2.          -2.\n",
            "  32.5         30.75        -2.          -2.           7.91040015\n",
            "  -2.          -2.        ]\n"
          ]
        }
      ]
    },
    {
      "cell_type": "markdown",
      "metadata": {
        "id": "6Z7jKgHmAiY1"
      },
      "source": [
        "▶実行結果  \n",
        "![image.png](data:image/png;base64,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)"
      ],
      "id": "6Z7jKgHmAiY1"
    },
    {
      "cell_type": "markdown",
      "metadata": {
        "id": "BKOVj4sY8b8j"
      },
      "source": [
        "### 決定木を保存する"
      ],
      "id": "BKOVj4sY8b8j"
    },
    {
      "cell_type": "code",
      "metadata": {
        "id": "S7u05t7u0uHv"
      },
      "source": [
        "# ★⑪ 学習させた決定木を「kouka1_model1.pkl」という名前で保存する\n",
        "with open('kouka1_model1.pkl', 'wb') as f:\n",
        "    pickle.dump(model, f)"
      ],
      "id": "S7u05t7u0uHv",
      "execution_count": 131,
      "outputs": []
    }
  ]
}