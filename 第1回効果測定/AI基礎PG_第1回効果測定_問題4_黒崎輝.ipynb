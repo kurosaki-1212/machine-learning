{
  "nbformat": 4,
  "nbformat_minor": 5,
  "metadata": {
    "kernelspec": {
      "display_name": "Python 3 (ipykernel)",
      "language": "python",
      "name": "python3"
    },
    "language_info": {
      "codemirror_mode": {
        "name": "ipython",
        "version": 3
      },
      "file_extension": ".py",
      "mimetype": "text/x-python",
      "name": "python",
      "nbconvert_exporter": "python",
      "pygments_lexer": "ipython3",
      "version": "3.8.11"
    },
    "colab": {
      "name": "AI基礎PG_第1回効果測定_問題4_黒崎輝.ipynb",
      "provenance": [],
      "collapsed_sections": []
    }
  },
  "cells": [
    {
      "cell_type": "markdown",
      "metadata": {
        "id": "cGyIlGd8abX9"
      },
      "source": [
        "AI基礎プログラミング 効果測定1 問題4"
      ],
      "id": "cGyIlGd8abX9"
    },
    {
      "cell_type": "markdown",
      "metadata": {
        "id": "61f4e866"
      },
      "source": [
        "以下のプログラムを実装してください\n",
        "\n",
        "読み込むCSVファイル  「Boston_kouka1.csv」"
      ],
      "id": "61f4e866"
    },
    {
      "cell_type": "code",
      "metadata": {
        "id": "R3J4MoVgUqnh",
        "colab": {
          "base_uri": "https://localhost:8080/"
        },
        "outputId": "b3b25a58-096a-41b2-cfeb-e8f77c3b83c0"
      },
      "source": [
        "!pip install japanize-matplotlib\n",
        "import japanize_matplotlib"
      ],
      "id": "R3J4MoVgUqnh",
      "execution_count": 1,
      "outputs": [
        {
          "output_type": "stream",
          "name": "stdout",
          "text": [
            "Collecting japanize-matplotlib\n",
            "  Downloading japanize-matplotlib-1.1.3.tar.gz (4.1 MB)\n",
            "\u001b[K     |████████████████████████████████| 4.1 MB 3.8 MB/s \n",
            "\u001b[?25hRequirement already satisfied: matplotlib in /usr/local/lib/python3.7/dist-packages (from japanize-matplotlib) (3.2.2)\n",
            "Requirement already satisfied: kiwisolver>=1.0.1 in /usr/local/lib/python3.7/dist-packages (from matplotlib->japanize-matplotlib) (1.3.2)\n",
            "Requirement already satisfied: cycler>=0.10 in /usr/local/lib/python3.7/dist-packages (from matplotlib->japanize-matplotlib) (0.11.0)\n",
            "Requirement already satisfied: python-dateutil>=2.1 in /usr/local/lib/python3.7/dist-packages (from matplotlib->japanize-matplotlib) (2.8.2)\n",
            "Requirement already satisfied: numpy>=1.11 in /usr/local/lib/python3.7/dist-packages (from matplotlib->japanize-matplotlib) (1.21.5)\n",
            "Requirement already satisfied: pyparsing!=2.0.4,!=2.1.2,!=2.1.6,>=2.0.1 in /usr/local/lib/python3.7/dist-packages (from matplotlib->japanize-matplotlib) (3.0.7)\n",
            "Requirement already satisfied: six>=1.5 in /usr/local/lib/python3.7/dist-packages (from python-dateutil>=2.1->matplotlib->japanize-matplotlib) (1.15.0)\n",
            "Building wheels for collected packages: japanize-matplotlib\n",
            "  Building wheel for japanize-matplotlib (setup.py) ... \u001b[?25l\u001b[?25hdone\n",
            "  Created wheel for japanize-matplotlib: filename=japanize_matplotlib-1.1.3-py3-none-any.whl size=4120275 sha256=78f9555f5229486a8a7308554b16a7bfba57445fe4418e38fdbbb6d8bcc1cbf1\n",
            "  Stored in directory: /root/.cache/pip/wheels/83/97/6b/e9e0cde099cc40f972b8dd23367308f7705ae06cd6d4714658\n",
            "Successfully built japanize-matplotlib\n",
            "Installing collected packages: japanize-matplotlib\n",
            "Successfully installed japanize-matplotlib-1.1.3\n"
          ]
        }
      ]
    },
    {
      "cell_type": "code",
      "metadata": {
        "id": "CGpTfthNa2kS",
        "colab": {
          "base_uri": "https://localhost:8080/"
        },
        "outputId": "7728ccaf-b414-4c02-95a0-fb7e2cdb6d87"
      },
      "source": [
        "# matplolibを表示できるようにする\n",
        "%matplotlib inline\n",
        "\n",
        "# ライブラリのインポート\n",
        "import pandas as pd\n",
        "from sklearn.model_selection import train_test_split\n",
        "from sklearn.preprocessing import StandardScaler\n",
        "from sklearn.linear_model import LinearRegression\n",
        "import pickle\n",
        "\n",
        "# CSVファイルを読み込む\n",
        "df = pd.read_csv('Boston_kouka1.csv')\n",
        "\n",
        "# 変数dfの先頭5行の中身を表示する\n",
        "print(df.head())\n",
        "\n",
        "# 各列の欠損値の件数を表示する\n",
        "print(df.isnull().sum())"
      ],
      "id": "CGpTfthNa2kS",
      "execution_count": 2,
      "outputs": [
        {
          "output_type": "stream",
          "name": "stdout",
          "text": [
            "   犯罪率low  犯罪率high    広さ     産業  川辺  ...   税金  生徒と先生      黒人    低所得    価格\n",
            "0       0        1   0.0  18.10   0  ...  666   20.2  354.70   7.12  27.5\n",
            "1       1        0   0.0   8.14   0  ...  307   21.0  232.60  27.71  13.2\n",
            "2       0        0  82.5   2.03   0  ...  348   14.7  393.77   7.43  24.1\n",
            "3       1        0   0.0  21.89   0  ...  437   21.2  396.90  18.46  17.8\n",
            "4       0        1   0.0  18.10   0  ...  666   20.2  374.68  11.66  29.8\n",
            "\n",
            "[5 rows x 15 columns]\n",
            "犯罪率low     0\n",
            "犯罪率high    0\n",
            "広さ         0\n",
            "産業         0\n",
            "川辺         0\n",
            "窒素酸化物      1\n",
            "部屋数        0\n",
            "古さ         0\n",
            "主要施設       0\n",
            "高速道路       1\n",
            "税金         0\n",
            "生徒と先生      0\n",
            "黒人         0\n",
            "低所得        0\n",
            "価格         0\n",
            "dtype: int64\n"
          ]
        }
      ]
    },
    {
      "cell_type": "code",
      "metadata": {
        "id": "xwZSbah7qpz0",
        "colab": {
          "base_uri": "https://localhost:8080/"
        },
        "outputId": "41e7ea26-e9ff-4d65-8379-fdc8b8dafe28"
      },
      "source": [
        "# データフレームのすべての欠損値を平均値で置き換え、df_fillnaに代入する\n",
        "df_fillna = df.fillna(df.mean())\n",
        "\n",
        "# df_fillnaの各列の欠損値の件数を表示する\n",
        "print(df_fillna.isnull().sum())"
      ],
      "id": "xwZSbah7qpz0",
      "execution_count": 3,
      "outputs": [
        {
          "output_type": "stream",
          "name": "stdout",
          "text": [
            "犯罪率low     0\n",
            "犯罪率high    0\n",
            "広さ         0\n",
            "産業         0\n",
            "川辺         0\n",
            "窒素酸化物      0\n",
            "部屋数        0\n",
            "古さ         0\n",
            "主要施設       0\n",
            "高速道路       0\n",
            "税金         0\n",
            "生徒と先生      0\n",
            "黒人         0\n",
            "低所得        0\n",
            "価格         0\n",
            "dtype: int64\n"
          ]
        }
      ]
    },
    {
      "cell_type": "code",
      "metadata": {
        "id": "WzXPcgKRq2EE",
        "colab": {
          "base_uri": "https://localhost:8080/",
          "height": 295
        },
        "outputId": "5a52212b-eee3-47e4-abba-bf46c41a2308"
      },
      "source": [
        "#★① 欠損値を置き換えた後のデータフレームで、横軸を「部屋数」、縦軸を「価格」として散布図を作成する\n",
        "df_fillna.plot(kind = 'scatter', x = '部屋数', y = '価格')"
      ],
      "id": "WzXPcgKRq2EE",
      "execution_count": 4,
      "outputs": [
        {
          "output_type": "execute_result",
          "data": {
            "text/plain": [
              "<matplotlib.axes._subplots.AxesSubplot at 0x7f99d8cb9b50>"
            ]
          },
          "metadata": {},
          "execution_count": 4
        },
        {
          "output_type": "display_data",
          "data": {
            "image/png": "[encoded data removed]",
            "text/plain": [
              "<Figure size 432x288 with 1 Axes>"
            ]
          },
          "metadata": {
            "needs_background": "light"
          }
        }
      ]
    },
    {
      "cell_type": "markdown",
      "metadata": {
        "id": "QzV7j5ghBi5E"
      },
      "source": [
        "▶実行結果  \n",
        "![image.png](data:image/png;base64,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)"
      ],
      "id": "QzV7j5ghBi5E"
    },
    {
      "cell_type": "code",
      "metadata": {
        "id": "gBcXeoQJsCDe",
        "colab": {
          "base_uri": "https://localhost:8080/"
        },
        "outputId": "d2acdd71-750a-4d15-bdbd-7a4cecf2de19"
      },
      "source": [
        "# ★② 上記の散布図で一番右下(部屋数が7.5よりも大きく、価格が20未満のもの)の外れ値を削除する。\n",
        "# 該当データのインデックスを取得する\n",
        "index_outliner = df_fillna[(df_fillna['部屋数'] > 7.5) & (df_fillna['価格'] < 20)].index\n",
        "\n",
        "# 取得したインデックスを表示する\n",
        "print(index_outliner)\n",
        "\n",
        "# インデックス指定でデータを削除する\n",
        "df_drop_outlier = df_fillna.drop(index_outliner, axis = 0)"
      ],
      "id": "gBcXeoQJsCDe",
      "execution_count": 5,
      "outputs": [
        {
          "output_type": "stream",
          "name": "stdout",
          "text": [
            "Int64Index([11], dtype='int64')\n"
          ]
        }
      ]
    },
    {
      "cell_type": "markdown",
      "metadata": {
        "id": "dihyL5prBqlC"
      },
      "source": [
        "▶実行結果  \n",
        "Int64Index([11], dtype='int64')"
      ],
      "id": "dihyL5prBqlC"
    },
    {
      "cell_type": "code",
      "metadata": {
        "id": "Z9qfwRbPtJkp",
        "colab": {
          "base_uri": "https://localhost:8080/"
        },
        "outputId": "5fe13442-3bd0-4a27-d310-4c9708c122af"
      },
      "source": [
        "# ★③ 外れ値を削除したデータフレームで、「価格」とその他の列の相関係数を表示する(「価格」同士の相関係数が含まれていてよい)\n",
        "series_cor = df_drop_outlier.corr()[\"価格\"]\n",
        "\n",
        "print(series_cor)"
      ],
      "id": "Z9qfwRbPtJkp",
      "execution_count": 12,
      "outputs": [
        {
          "output_type": "stream",
          "name": "stdout",
          "text": [
            "犯罪率low     0.078166\n",
            "犯罪率high   -0.299439\n",
            "広さ         0.187409\n",
            "産業        -0.385119\n",
            "川辺         0.126303\n",
            "窒素酸化物     -0.327234\n",
            "部屋数        0.851384\n",
            "古さ        -0.295796\n",
            "主要施設       0.068697\n",
            "高速道路      -0.242410\n",
            "税金        -0.327084\n",
            "生徒と先生     -0.406069\n",
            "黒人         0.259165\n",
            "低所得       -0.688096\n",
            "価格         1.000000\n",
            "Name: 価格, dtype: float64\n"
          ]
        }
      ]
    },
    {
      "cell_type": "markdown",
      "metadata": {
        "id": "s-Wm-MsaBxuh"
      },
      "source": [
        "▶実行結果  \n",
        "犯罪率low     0.078166  \n",
        "犯罪率high   -0.299439  \n",
        "広さ         0.187409  \n",
        "産業        -0.385119  \n",
        "川辺         0.126303  \n",
        "窒素酸化物     -0.327234  \n",
        "部屋数        0.851384  \n",
        "古さ        -0.295796  \n",
        "主要施設       0.068697  \n",
        "高速道路      -0.242410  \n",
        "税金        -0.327084  \n",
        "生徒と先生     -0.406069  \n",
        "黒人         0.259165  \n",
        "低所得       -0.688096  \n",
        "価格         1.000000  \n",
        "Name: 価格, dtype: float64"
      ],
      "id": "s-Wm-MsaBxuh"
    },
    {
      "cell_type": "code",
      "metadata": {
        "id": "5vXcGBGYW3Da",
        "colab": {
          "base_uri": "https://localhost:8080/"
        },
        "outputId": "4bb15587-669b-4b4c-b090-941fe986b502"
      },
      "source": [
        "# ★④ 上記の相関係数の絶対値を降順に表示する\n",
        "# 相関係数の絶対値を求め、abs_series_corに代入する\n",
        "abs_series_cor = series_cor.map(abs)\n",
        "\n",
        "# abs_series_corを降順に並び替えて表示する\n",
        "abs_series_cor.sort_values(ascending = False)"
      ],
      "id": "5vXcGBGYW3Da",
      "execution_count": 14,
      "outputs": [
        {
          "output_type": "execute_result",
          "data": {
            "text/plain": [
              "価格         1.000000\n",
              "部屋数        0.851384\n",
              "低所得        0.688096\n",
              "生徒と先生      0.406069\n",
              "産業         0.385119\n",
              "窒素酸化物      0.327234\n",
              "税金         0.327084\n",
              "犯罪率high    0.299439\n",
              "古さ         0.295796\n",
              "黒人         0.259165\n",
              "高速道路       0.242410\n",
              "広さ         0.187409\n",
              "川辺         0.126303\n",
              "犯罪率low     0.078166\n",
              "主要施設       0.068697\n",
              "Name: 価格, dtype: float64"
            ]
          },
          "metadata": {},
          "execution_count": 14
        }
      ]
    },
    {
      "cell_type": "markdown",
      "metadata": {
        "id": "bH-npjpfBzTz"
      },
      "source": [
        "▶実行結果  \n",
        "価格         1.000000  \n",
        "部屋数        0.851384  \n",
        "低所得        0.688096  \n",
        "生徒と先生      0.406069  \n",
        "産業         0.385119  \n",
        "窒素酸化物      0.327234  \n",
        "税金         0.327084  \n",
        "犯罪率high    0.299439  \n",
        "古さ         0.295796  \n",
        "黒人         0.259165  \n",
        "高速道路       0.242410  \n",
        "広さ         0.187409  \n",
        "川辺         0.126303  \n",
        "犯罪率low     0.078166  \n",
        "主要施設       0.068697  \n",
        "Name: 価格, dtype: float64"
      ],
      "id": "bH-npjpfBzTz"
    },
    {
      "cell_type": "code",
      "metadata": {
        "id": "7woWYvmRq1X8"
      },
      "source": [
        "# 特徴量と正解データを以下の列とする\n",
        "# 特徴量　…　「部屋数」「低所得」「生徒と先生」\n",
        "# 正解データ　…　「価格」\n",
        "\n",
        "# 特徴量をXに代入する\n",
        "X = df_drop_outlier[['部屋数', '低所得', '生徒と先生']]\n",
        "\n",
        "# 正解データをyに代入する\n",
        "y = df_drop_outlier[['価格']]"
      ],
      "id": "7woWYvmRq1X8",
      "execution_count": 15,
      "outputs": []
    },
    {
      "cell_type": "code",
      "metadata": {
        "id": "tB4vkOr4cpAN",
        "colab": {
          "base_uri": "https://localhost:8080/"
        },
        "outputId": "2c3e6062-d9f7-4735-f1d1-98b7044cca50"
      },
      "source": [
        "# ★⑤ 「部屋数」の2乗を「部屋数2」という名前で特徴量のデータフレームに追加する\n",
        "X['部屋数2'] = X['部屋数'] ** 2"
      ],
      "id": "tB4vkOr4cpAN",
      "execution_count": 17,
      "outputs": [
        {
          "output_type": "stream",
          "name": "stderr",
          "text": [
            "/usr/local/lib/python3.7/dist-packages/ipykernel_launcher.py:2: SettingWithCopyWarning: \n",
            "A value is trying to be set on a copy of a slice from a DataFrame.\n",
            "Try using .loc[row_indexer,col_indexer] = value instead\n",
            "\n",
            "See the caveats in the documentation: https://pandas.pydata.org/pandas-docs/stable/user_guide/indexing.html#returning-a-view-versus-a-copy\n",
            "  \n"
          ]
        }
      ]
    },
    {
      "cell_type": "code",
      "metadata": {
        "id": "0ERJPfH5dlWW"
      },
      "source": [
        "# 変数X, 変数yを「学習で用いるデータ」と「テストで用いるデータ」に分割する\n",
        "X_train, X_test, y_train, y_test = train_test_split(X, y, test_size = 0.3, random_state = 0)"
      ],
      "id": "0ERJPfH5dlWW",
      "execution_count": 18,
      "outputs": []
    },
    {
      "cell_type": "code",
      "metadata": {
        "id": "50aEfCJSZpSz"
      },
      "source": [
        "# ★⑥ 学習で用いるデータを標準化する\n",
        "# StandardScalerのオブジェクトを生成し、変数sc_model_Xに代入する\n",
        "sc_model_X = StandardScaler()\n",
        "\n",
        "# 上記オブジェクトを使い、X_trainの情報を標準化し、変数X_train_scに代入する　\n",
        "sc_model_X.fit(X_train)\n",
        "X_train_sc = sc_model_X.transform(X_train)\n",
        "\n",
        "# StandardScalerのオブジェクトを生成し、変数sc_model_yに代入する\n",
        "sc_model_y = StandardScaler()\n",
        "\n",
        "# 上記オブジェクトを使い、y_trainの情報を標準化し、変数y_train_scに代入する\n",
        "sc_model_y.fit(y_train)\n",
        "y_train_sc = sc_model_y.transform(y_train)"
      ],
      "id": "50aEfCJSZpSz",
      "execution_count": 19,
      "outputs": []
    },
    {
      "cell_type": "code",
      "metadata": {
        "id": "Dvw3jA08gakH",
        "colab": {
          "base_uri": "https://localhost:8080/"
        },
        "outputId": "a88436e2-c0ca-49be-f793-691f3678b896"
      },
      "source": [
        "# ★⑦ 回帰を使って学習させる\n",
        "# 回帰のオブジェクトを作成する\n",
        "model = LinearRegression()\n",
        "\n",
        "# 「学習で用いるデータ」を使って学習させる\n",
        "model.fit(X_train_sc, y_train_sc)"
      ],
      "id": "Dvw3jA08gakH",
      "execution_count": 20,
      "outputs": [
        {
          "output_type": "execute_result",
          "data": {
            "text/plain": [
              "LinearRegression()"
            ]
          },
          "metadata": {},
          "execution_count": 20
        }
      ]
    },
    {
      "cell_type": "code",
      "metadata": {
        "id": "iwPdquHbhRDB",
        "colab": {
          "base_uri": "https://localhost:8080/"
        },
        "outputId": "153bf28a-0b8a-4133-f3df-bdd976ecaad6"
      },
      "source": [
        "# ★⑧\t「テストで用いるデータ」を使用して、決定係数を表示する\n",
        "# 「テストで用いるデータ」を標準化する\n",
        "X_test_sc = sc_model_X.transform(X_test)\n",
        "\n",
        "y_test_sc = sc_model_y.transform(y_test)\n",
        "\n",
        "# 「テストで用いるデータ」の決定係数を計算し、表示する\n",
        "print(model.score(X_test_sc, y_test_sc))"
      ],
      "id": "iwPdquHbhRDB",
      "execution_count": 22,
      "outputs": [
        {
          "output_type": "stream",
          "name": "stdout",
          "text": [
            "0.8784553121569637\n"
          ]
        }
      ]
    },
    {
      "cell_type": "markdown",
      "metadata": {
        "id": "I1PY8WCwB3Mb"
      },
      "source": [
        "▶実行結果  \n",
        "0.8784553121569637"
      ],
      "id": "I1PY8WCwB3Mb"
    },
    {
      "cell_type": "code",
      "metadata": {
        "id": "AWUd03ctiPLf",
        "colab": {
          "base_uri": "https://localhost:8080/"
        },
        "outputId": "1444becf-dc2c-4328-8045-0e3cf2c30114"
      },
      "source": [
        "# ★⑨ 各カラムの係数、切片を確認する\n",
        "# 特徴量(X_train)の列名を表示する\n",
        "print(X_train.columns)\n",
        "\n",
        "# 各カラムの係数を確認する\n",
        "print(model.coef_)\n",
        "\n",
        "# 切片を確認する\n",
        "print(model.intercept_)"
      ],
      "id": "AWUd03ctiPLf",
      "execution_count": 23,
      "outputs": [
        {
          "output_type": "stream",
          "name": "stdout",
          "text": [
            "Index(['部屋数', '低所得', '生徒と先生', '部屋数2'], dtype='object')\n",
            "[[-4.68082179 -0.34202197 -0.09532301  5.28130515]]\n",
            "[-6.72077819e-15]\n"
          ]
        }
      ]
    },
    {
      "cell_type": "markdown",
      "metadata": {
        "id": "BNihG73QB4-x"
      },
      "source": [
        "▶実行結果  \n",
        "Index(['部屋数', '低所得', '生徒と先生', '部屋数2'], dtype='object')  \n",
        "[[-4.68082179 -0.34202197 -0.09532301  5.28130515]]  \n",
        "[-6.72077819e-15]"
      ],
      "id": "BNihG73QB4-x"
    },
    {
      "cell_type": "markdown",
      "metadata": {
        "id": "lErxGPjs3iR9"
      },
      "source": [
        "学習させた線形回帰を使い、下記のデータで予測する\n",
        "\n",
        "|部屋数|低所得|生徒と先生|\n",
        "| ----: | ----: | ----: |\n",
        "|6|7.5|14.7|"
      ],
      "id": "lErxGPjs3iR9"
    },
    {
      "cell_type": "code",
      "metadata": {
        "id": "McaTua6R3rtR",
        "colab": {
          "base_uri": "https://localhost:8080/"
        },
        "outputId": "8fc0ea8d-0ee7-427c-c7d8-004884b77d6e"
      },
      "source": [
        "# ★⑩ 上記の表のデータでの予測結果を求める\n",
        "predict_rm = 6\n",
        "predict_lstat = 7.5\n",
        "predict_ptratio = 14.7\n",
        "predict_data = pd.DataFrame([[predict_rm, predict_lstat, predict_ptratio, predict_rm ** 2]])\n",
        "\n",
        "\n",
        "# X_trainの情報で予測データを標準化し、変数predict_data_scに代入する\n",
        "predict_data_sc = sc_model_X.transform(predict_data)\n",
        "\n",
        "# predict_data_scの内容で予測し、結果を変数predicted_price_scに代入する\n",
        "predicted_price_sc = model.predict(predict_data_sc)\n",
        "\n",
        "# predicted_price_scの標準化を元に戻し、結果を変数predicted_priceに代入する\n",
        "predicted_price = sc_model_y.inverse_transform(predicted_price_sc)\n",
        "\n",
        "# 結果を表示する\n",
        "print(predicted_price)"
      ],
      "id": "McaTua6R3rtR",
      "execution_count": 24,
      "outputs": [
        {
          "output_type": "stream",
          "name": "stdout",
          "text": [
            "[[24.61444532]]\n"
          ]
        },
        {
          "output_type": "stream",
          "name": "stderr",
          "text": [
            "/usr/local/lib/python3.7/dist-packages/sklearn/base.py:451: UserWarning: X does not have valid feature names, but StandardScaler was fitted with feature names\n",
            "  \"X does not have valid feature names, but\"\n"
          ]
        }
      ]
    },
    {
      "cell_type": "markdown",
      "metadata": {
        "id": "ZHpoyFLCB60s"
      },
      "source": [
        "▶実行結果  \n",
        "[[24.61444532]]"
      ],
      "id": "ZHpoyFLCB60s"
    }
  ]
}